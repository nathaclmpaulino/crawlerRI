{
 "cells": [
  {
   "cell_type": "markdown",
   "metadata": {},
   "source": [
    "Este projeto você irá implementar o processamento de consultas. Nela, você utilizará o índice para retornar uma coleção ordenada e avaliação de algumas consultas selecionadas. Para isso, vocês deverão implementar alguns métodos das seguintes classes.\n",
    "\n",
    "- `IndexPreComputedVals`: Em alguns modelos, há a necessidade de processar alguns valores para que, no momento da execução da consulta, seja retornado de forma mais rápida. Esta classe analisa o índice e armazena informações necessárias para o calculo de cada tipo de modelagem;\n",
    "- `RankingModel`: Classe abstrata para a criação dos modelos. Ele possui o método `get_ordered_docs` a ser implementado por suas subclasses;\n",
    "- `BooleanRankingModel` Classe que retorna um resultado de consulta por meio do [modelo booleano](https://docs.google.com/presentation/d/1V62ll_IXRrsp6TYUHjx_T4jIyIc1ZVJYoOSwsxObybE/edit?usp=sharing)\n",
    "- `VectorRankingModel`: Classe que retorna um resultado de consulta por meio do [modelo vetorial](https://docs.google.com/presentation/d/1jsD1MpLIl08OnWysDhjp7glc4_K0sH9sKUhRqI8lLLo/edit?usp=sharing)\n",
    "- `QueryRunner`: Classe principal encarregada de obter a consulta e retornar os resultados;\n",
    "\n",
    "\n",
    "Este trabalho depende do código do indice (pacote `index`). Assim, você deve adicioná-o apropriadamente para dar continuidade ao projeto. \n"
   ]
  },
  {
   "cell_type": "markdown",
   "metadata": {},
   "source": [
    "## Modelagem Booleana e Vetorial"
   ]
  },
  {
   "cell_type": "markdown",
   "metadata": {},
   "source": [
    "** Atividade 1 - Modelagem Booleana**: A abordagem booleana neste trabalho é simplificada. O modelo recebe possui o atributo `operator` que é uma instancia do [Enum](https://docs.python.org/3.4/library/enum.html) Operator. Caso o operador seja AND, será feito a operacao de interseção entre todos os documentos contidos ocorrencias de palavras, caso contrario, sendo OR, será feito a união. Exemplo: "
   ]
  },
  {
   "cell_type": "code",
   "execution_count": null,
   "metadata": {},
   "outputs": [],
   "source": [
    "from index.structure import TermOccurrence\n",
    "map_ocorrencias = {\"saturno\":[TermOccurrence(1,1,1),\n",
    "                            TermOccurrence(3,1,1)],\n",
    "                     \"plutao\":[TermOccurrence(2,5,1),\n",
    "                               TermOccurrence(4,5,1)],\n",
    "                        \"terra\":[TermOccurrence(1,2,1),\n",
    "                            TermOccurrence(2,2,1),\n",
    "                            TermOccurrence(4,2,1),],\n",
    "                        \"venus\":[TermOccurrence(1,3,1),\n",
    "                                TermOccurrence(2,3,1),\n",
    "                                TermOccurrence(3,3,1),\n",
    "                                TermOccurrence(4,3,1)],\n",
    "                        \"marte\":[TermOccurrence(1,4,2),\n",
    "                            TermOccurrence(3,4,1),\n",
    "                            TermOccurrence(4,4,1),],\n",
    "\n",
    "                        \"mercurio\":[TermOccurrence(3,6,1)]          \n",
    "    }"
   ]
  },
  {
   "cell_type": "markdown",
   "metadata": {},
   "source": [
    "A intereseção entre `saturno` e `venus` resultará nos documentos 1 e 3 e, a união, nos documentos 1, 2, 3 e 4."
   ]
  },
  {
   "cell_type": "markdown",
   "metadata": {},
   "source": [
    "Esta é uma forma bem simplificada para implementarmos o modelo booleano. Para isso, você deverá implementar os métodos `union_all` e `intersection_all` presentes na classe `BooleanRankingModel` no arquivo `ranking_models.py`. Esses métodos recebem como parâmetro um mapa com a lista de correncias de cada termo (similar a exemplificada acima)."
   ]
  },
  {
   "cell_type": "code",
   "execution_count": null,
   "metadata": {},
   "outputs": [],
   "source": [
    "!python3 -m query.tests.ranking_models RankingModelTest.test_boolean_model"
   ]
  },
  {
   "cell_type": "markdown",
   "metadata": {},
   "source": [
    "**Atividade 2 - TF-IDF: ** Agora, no mesmo arquivo, iremos finalizar a implementação do modelo Vetorial utilizando a classe `VectorRankingModel`. Nesta classe, primeiramente, você deverá implementar os [métodos estáticos](https://daniel-hasan.github.io/cefet-web-grad/classes/python2/) `tf`, `idf` e `tf_idf`. Sendo que $TF = 1+log_2(f_{ij})$ e $IDF_i = log_2(\\frac{N}{n_i})$ em que $f_{ij}$ é a frequência do termo $i$ no documento $j$, $N$ é o número de documentos e $n_i$ é o número de documentos que ocorrem o termo $i$. Abaixo, faça testes destes métodos: "
   ]
  },
  {
   "cell_type": "code",
   "execution_count": null,
   "metadata": {},
   "outputs": [],
   "source": [
    "from query.ranking_models import *\n",
    "from index.structure import *\n",
    "\n",
    "index = FileIndex()\n",
    "precomp = IndexPreComputedVals(index)\n",
    "vectorRank = VectorRankingModel(precomp)\n",
    "\n",
    "doc_count=4\n",
    "freq_term=1\n",
    "num_docs_with_term=3\n",
    "\n",
    "tf_esperado = 1\n",
    "idf_esperado = 0.415\n",
    "tf_idf_esperado = 0.415\n",
    "\n",
    "tf_calc = vectorRank.tf(freq_term)\n",
    "idf_calc = vectorRank.idf(doc_count,num_docs_with_term)\n",
    "\n",
    "if tf_esperado == tf_calc:\n",
    "    print('OK')\n",
    "else:\n",
    "    print(f'Resultado inesperado para TF: {tf_calc}. Esperava-se: {tf_esperado}')\n",
    "    \n",
    "\n",
    "if idf_esperado == idf_calc:\n",
    "    print('OK')\n",
    "else:\n",
    "    print(f'Resultado inesperado para IDF: {idf_calc}. Esperava-se: {idf_esperado}')\n",
    "\n",
    "tf_idf_calc = vectorRank.tf_idf(doc_count, freq_term, num_docs_with_term)\n",
    "if tf_idf_esperado == tf_idf_calc:\n",
    "    print('OK')\n",
    "else:\n",
    "    print(f'Resultado inesperado para TF_IDF: {tf_idf_calc}. Esperava-se: {tf_idf_esperado}') \n"
   ]
  },
  {
   "cell_type": "markdown",
   "metadata": {},
   "source": [
    "**Atividade 3 - PreComputedVals: ** No modelo vetorial temos que calcular a norma de cada documento $d_j$. Esse calculo não pode ser feito durante o preprocessamento da consulta. Assim, na classe `IndexPreComputedVals` possui o atributo `document_norm` que é um dicionário que mapeia cada documnto $j$ à sua norma. Esse calculo é feito apenas uma vez ao iniciar o programa. \n",
    "\n",
    "Desta forma, você deverá terminar de implementar o método `precompute_vals` que percorre todo o índice e armazena a norma de cada documento."
   ]
  },
  {
   "cell_type": "code",
   "execution_count": null,
   "metadata": {},
   "outputs": [],
   "source": [
    "!python3 -m query.tests.ranking_models RankingModelTest.test_precomputed_vals"
   ]
  },
  {
   "cell_type": "markdown",
   "metadata": {},
   "source": [
    "**Atividade 4 - Método `get_ordered_docs` da classe `VectorRankingModel`: ** Usando os métodos implementados anteriormente você deverá ordenar os documentos contidos no mapa de ocorrencias `docs_occur_per_term` de acordo com a consulta `query` utilizando o modelo vetorial. O parametro `query` mapeia um termo presente na consulta, para a sua ocorrencia (objeto da classe `TermOcurrence`. Para cada termo $t$ que ocorre na consulta, `docs_occur_per_term` mapeia cada termo com a lista de ocorrencias dele no índice. Veja abaixo um exemplo destes parametros usando a consulta `to be or not to be`.  Veja que, na consulta, `doc_id = None`."
   ]
  },
  {
   "cell_type": "code",
   "execution_count": null,
   "metadata": {},
   "outputs": [],
   "source": [
    "from index.structure import *\n",
    "query = {\"to\":TermOccurrence(None, 1, 2),\n",
    "         \"be\":TermOccurrence(None, 2, 2),\n",
    "          \"or\":TermOccurrence(None, 3, 1),\n",
    "          \"not\":TermOccurrence(None, 4, 1),}\n",
    "docs_occur_per_term = {\n",
    "                                    \"to\":[TermOccurrence(1, 1, 4),\n",
    "                                          TermOccurrence(2, 1, 1),],\n",
    "                                      \"be\":[TermOccurrence(1, 2, 1),TermOccurrence(2, 2, 1)],\n",
    "                                     \"or\":[TermOccurrence(2, 3, 1)],\n",
    "                                    \"not\":[TermOccurrence(3, 4, 1)],\n",
    "                                }"
   ]
  },
  {
   "cell_type": "markdown",
   "metadata": {},
   "source": [
    "Esse método retorna dois valores: (a) uma lista de ids de documentos ordenada de acordo com o modelo vetorial - use o método e um dicionário que mapeia, para cada documento, o seu peso. O método `rank_document_ids` será útil. "
   ]
  },
  {
   "cell_type": "code",
   "execution_count": null,
   "metadata": {},
   "outputs": [],
   "source": [
    "!python3 -m query.tests.ranking_models RankingModelTest.test_vector_model"
   ]
  },
  {
   "cell_type": "markdown",
   "metadata": {},
   "source": [
    "## Processamento da Consulta e Avaliação"
   ]
  },
  {
   "cell_type": "markdown",
   "metadata": {},
   "source": [
    "Agora você irá fazer o processamento da consulta, informada pelo usuário, além de sua avaliação. A implementação do processamento de consultas será feito na classe `QueryRunner` do arquivo `processing.py`.\n",
    "\n",
    "**Requisito antes de começar:** o código que foi feito da indexação deve estar funcionando. Será utilizado a base de dados da Wikipédia. Você não deverá fazer a indexação toda quando iniciar o programa, ao invés disso, você deve persistir o indice todo em arquivo após a indexação. Usando FileIndex, como as ocorrencias já estão armazenadas em arquivo, você precisa armazenar apenas o conteúdo do `dic_index`. A [biblioteca json](https://docs.python.org/3/library/json.html) pode ajudar. Este índice será lido do arquivo apenas uma vez no início da execução do programa."
   ]
  },
  {
   "cell_type": "markdown",
   "metadata": {},
   "source": [
    "**Criação da coleção de referência: ** Para o projeto realizaremos uma avaliação bem simples, com o único intuito de simularmos um processo real de avaliação. Para tanto, consideraremos como conjunto de consultas de teste apenas três consultas:\n",
    "'Irlanda'\n",
    "'Belo Horizonte' e \n",
    "'São Paulo'\n",
    "\n",
    "O conjunto de documentos de teste compreenderá todas as páginas da base de dados da Wikipédia PT-BR utilizadas no projeto.  Para cada consulta, disponibilizamos um arquivo (na pasta `relevant_docs`) com o id de documentos relevantes (separados por vírgula) para as consultas teste.\n",
    "\n",
    "Por exemplo, um documento $D$ será considerado relevante para a consulta 'Belo Horizonte' somente \n",
    "se o id de $D$ estiver no arquivo `belo_horizonte.dat`. Você irá armazenar o conteúdo desses arquivos em memória para diminuir o tempo de busca. Feito isso, a coleção de referência para as três consultas estará montada e pode-se realizar os cálculos de avaliação corretamente.\n",
    "\n",
    "**Como um artigo foi considerado relevante para uma determinada consulta?** A Wikipedia organiza seus artigos em diversas categorias. Assim, para considerarmos se um artigo da Wikipédia é relevante, utilizamos essas categorias. Assim, para os documentos relevantes para a consulta 'Irlanda' (Arquivo `irlanda.dat`), foram considerados relevantes artigos da seguintes categorias: \n",
    " \n",
    "- Irlanda\n",
    "- Economia da Irlanda\n",
    "- História da Irlanda\n",
    "- Cultura da Irlanda\n",
    "- Romancistas da Irlanda\n",
    "- Físicos da Irlanda\n",
    "- Reis da Irlanda\n",
    "- Lordes da Irlanda\n",
    "\n",
    "Categorias relevantes para a consulta 'Belo Horizonte' (Arquivo `belo_horizonte.dat`): \n",
    "\n",
    "- Bairros de Belo Horizonte\n",
    "- Bandas de Belo Horizonte\n",
    "- Belo Horizonte\n",
    "- Edifícios de Belo Horizonte\n",
    "- Metrô de Belo Horizonte\n",
    "- Naturais de Belo Horizonte\n",
    "- Prefeitos de Belo Horizonte\n",
    "- Vereadores de Belo Horizonte\n",
    "\n",
    "Categorias relevantes para a consulta 'São Paulo' (arquivo `sao_paulo.dat`):\n",
    "\n",
    "- Atrações turísticas da cidade de São Paulo\n",
    "- Áreas protegidas de São Paulo\n",
    "- Prefeitos de São Paulo\n",
    "- São Paulo\n",
    "- Turismo em São Paulo\n",
    "- Universidades de São Paulo\n",
    "- Rodovias de São Paulo\n",
    "- Museus da cidade de São Paulo\n",
    "- Governadores de São Paulo\n",
    "- Municípios de São Paulo"
   ]
  },
  {
   "cell_type": "markdown",
   "metadata": {},
   "source": [
    "**Atividade 5 - Leitura dos arquivos de relevâncias: ** Você deverá implementar o método `get_relevance_per_query` que irá ler todos os arquivo da pasta `relevant_docs` e, com isso, retornar um mapeamento em que a chave é a string de consulta e o valor é o **conjunto** de ids de documentos. Veja um exemplo de retorno com as consultas `Bolívia`, `Brasil` e `Porto Seguro`: \n"
   ]
  },
  {
   "cell_type": "code",
   "execution_count": null,
   "metadata": {},
   "outputs": [],
   "source": [
    "retorno = {\"Bolívia\":{1,3,5,6,233},\n",
    "            \"Brasil\":{2,4,5,3},\n",
    "           \"Porto Seguro\":{3,43,21,3,12,233}\n",
    "          }"
   ]
  },
  {
   "cell_type": "markdown",
   "metadata": {},
   "source": [
    "Faça um teste de execução abaixo: "
   ]
  },
  {
   "cell_type": "code",
   "execution_count": null,
   "metadata": {},
   "outputs": [],
   "source": []
  },
  {
   "cell_type": "markdown",
   "metadata": {},
   "source": [
    "**Atividade 6 - count_top_n_relevant: ** Um método que auxilirará vocês na avaliação é o método count_top_n_relevant da classe Query Runner.  Esse método calcula a quantidade de documentos relevantes nas top `n` posições da lista `lstResposta` que é a resposta a uma consulta - lista de ids de documentos. `lstResposta` será a lista de respostas ordenadas por um método de processamento de consulta (BM25, Modelo vetorial). Os ids de documentos relevantes estão no parametro `docRelevantes`."
   ]
  },
  {
   "cell_type": "code",
   "execution_count": null,
   "metadata": {},
   "outputs": [],
   "source": [
    "!python3 -m query.tests.processing ProcessingTest.test_count_top_n_relevant"
   ]
  },
  {
   "cell_type": "markdown",
   "metadata": {},
   "source": [
    "**Atividade 7 - processamento da consulta**: O método `get_query_term_occurence` a consulta da mesma forma que foi preprocessado o texto do documento (use a classe `Cleaner` para isso). Este método irá retonar a consulta em um dicionario em que chave é o termo que ocorreu e o valor é uma instancia da classe TermOccurrence (ver Atividade 4). O doc_id deverá ser sempre None. Caso o termo nao exista no indice, ele será desconsiderado."
   ]
  },
  {
   "cell_type": "code",
   "execution_count": null,
   "metadata": {},
   "outputs": [],
   "source": [
    "!python3 -m query.tests.processing ProcessingTest.test_get_query_term_occurence"
   ]
  },
  {
   "cell_type": "markdown",
   "metadata": {},
   "source": [
    "**Atividade 8 - Recuperação dos termos da consulta no índice: ** O método `get_occurrence_list_per_term` possui com parametro a lista de termos da consulta. Este método retorna um dicionario com a lista de ocorrencia no indice de cada termo passado como parametro. Caso o termo não exista, este termo possuirá uma lista vazia. Veja o exemplo na atividade 4."
   ]
  },
  {
   "cell_type": "code",
   "execution_count": null,
   "metadata": {},
   "outputs": [],
   "source": [
    "!python3 -m query.tests.processing ProcessingTest.test_get_occurence_list_per_term"
   ]
  },
  {
   "cell_type": "markdown",
   "metadata": {},
   "source": [
    "**Atividade 9 - processamento da consulta: ** Este método recebe como parametro a consulta, os valores precomputado do índice e o dicionário de documentos relevantes (extraídos do método `get_relevance_per_query`) para retornar uma lista de IDs ordenados de acordo com a consulta utilizando o modelo de ranking e indice que são os atributos `index` e "
   ]
  },
  {
   "cell_type": "code",
   "execution_count": null,
   "metadata": {},
   "outputs": [],
   "source": [
    "!python3 -m query.tests.processing ProcessingTest.test_get_docs_term"
   ]
  },
  {
   "cell_type": "markdown",
   "metadata": {},
   "source": [
    "**Atividade 10: Método estático runQuery e criação da interface de caracteres - ou uso da interface gráfica/web: ** Você deverá fazer um método que utilizando o indice, valores precomputados e o dicionario de indices relevantes:\n",
    "            \n",
    "- Instanciar um objeto de uma subclasse de RankingModel, de acordo com o que foi solicitado pelo usuário\n",
    "- Preprocessar os termos da consulta\n",
    "- Obter no indice as ocorrencias de cada termo do indice\n",
    "- Utilize o método get_docs_term para obter a lista de documentos que responde esta consulta\n",
    "- Caso seja uma consulta que possua documentos relevantes assinalados, fazer a avaliação da precisão e revocação dos top 10, 20 e 50\n",
    "- Imprimir as top 10 respostas. \n",
    "            \n",
    "Você deverá criar uma interface de carcteres para solicitar ao usuario a consulta e a modelagem a ser usada. Caso opte por uma interface de caracteres,faça também uma função main em processing e, abaixo, execute-a para mostrar como exemplo. Caso deseje, ao inves disso, você pode também fazer uma interface gráfica. Para testar este método, você deverá usar o indice da Wikipedia. Além disso, você deverá fazer uma análise e acordo com o guia de escrita do relatório sobre as as consultas da coleção de referencia. Para melhorar a apresentação, o arquivo `titlePerDoc.dat` apresenta o título do artigo por id do mesmo. O arquivo `itens obrigatorios - reltorio processamento de consulta.pdf` demonstra os itens obrigatórios do relatório.\n",
    "\n",
    "Você tem a liberdade de alterar este método como bem entender, mas lembre-se que os valores precomputados devem ser executado uma vez só durante a execução do programa antes da solicitação das consultas para que a consulta não fique lenta. Além disso, você deve ler o arquivo do índice também apenas uma vez (não indexe a Wikipedia novamente e sim leia o arquivo do indice gravado em memória). Caso deseje, você pode modificar o IndexPreComputedVals para armazenar mais elementos precomputados que facilitariam a consulta (ou a exibição da mesma). \n",
    "\n",
    " Caso opte por fazer uma interface web, deve estar claro as instruções para que seja possível executa-la, inclusive, as suas dependencias. Para melhoria de organização, a parte de interface grafica ou web deve ser feita em outros arquivos."
   ]
  },
  {
   "cell_type": "markdown",
   "metadata": {},
   "source": [
    "Para rodar a api, necessário instalar alguns pacotes:\n",
    "- pip install flask flask-jsonpify flask-restful\n",
    "- pip install -U flask-cors"
   ]
  },
  {
   "cell_type": "code",
   "execution_count": null,
   "metadata": {},
   "outputs": [
    {
     "name": "stdout",
     "output_type": "stream",
     "text": [
      " * Serving Flask app \"__main__\" (lazy loading)\n",
      " * Environment: production\n",
      "   WARNING: This is a development server. Do not use it in a production deployment.\n",
      "   Use a production WSGI server instead.\n",
      " * Debug mode: off\n"
     ]
    },
    {
     "name": "stderr",
     "output_type": "stream",
     "text": [
      " * Running on http://127.0.0.1:5000/ (Press CTRL+C to quit)\n",
      "[2020-12-05 09:35:31,912] ERROR in app: Exception on /buscador [GET]\n",
      "Traceback (most recent call last):\n",
      "  File \"/usr/lib/python3/dist-packages/flask/app.py\", line 1949, in full_dispatch_request\n",
      "    rv = self.dispatch_request()\n",
      "  File \"/usr/lib/python3/dist-packages/flask/app.py\", line 1935, in dispatch_request\n",
      "    return self.view_functions[rule.endpoint](**req.view_args)\n",
      "  File \"/home/natha/.local/lib/python3.8/site-packages/flask_restful/__init__.py\", line 468, in wrapper\n",
      "    resp = resource(*args, **kwargs)\n",
      "  File \"/usr/lib/python3/dist-packages/flask/views.py\", line 89, in view\n",
      "    return self.dispatch_request(*args, **kwargs)\n",
      "  File \"/home/natha/.local/lib/python3.8/site-packages/flask_restful/__init__.py\", line 583, in dispatch_request\n",
      "    resp = meth(*args, **kwargs)\n",
      "  File \"<ipython-input-1-488a108d2d17>\", line 54, in get\n",
      "    QueryRunner.runQuery(query, index, precomp, relevantes, modelo)\n",
      "  File \"/home/natha/CEFET/RI/crawlerRI/tp-processamento-consulta/query/processing.py\", line 157, in runQuery\n",
      "    precisao = qr.count_topn_relevant(n, respostas[0], map_relevantes[query]) / len(respostas[0])\n",
      "ZeroDivisionError: division by zero\n",
      "127.0.0.1 - - [05/Dec/2020 09:35:31] \"GET /buscador?query=sao_paulo&type=vetorial&operation=and HTTP/1.1\" 500 -\n"
     ]
    },
    {
     "name": "stdout",
     "output_type": "stream",
     "text": [
      "sao_paulo vetorial and\n",
      "ola mundou deu bom\n",
      "1\n",
      "2\n",
      "3\n",
      "Query sao_paulo\n",
      "Dic_query_occur\n",
      "{'sao_paulo': (term_id:1 doc: None freq: 1)}\n",
      "Query dividida\n",
      "['sao_paulo']\n",
      "Dic_query_per_term_query\n",
      "{'sao_paulo': [(term_id:1 doc: 359 freq: 5), (term_id:1 doc: 16865 freq: 2), (term_id:1 doc: 35020 freq: 1)]}\n",
      "Query\n",
      "{'sao_paulo': (term_id:1 doc: None freq: 1)}\n",
      "DCPT\n",
      "{'sao_paulo': [(term_id:1 doc: 359 freq: 5), (term_id:1 doc: 16865 freq: 2), (term_id:1 doc: 35020 freq: 1)]}\n",
      "[1, 2, 3, 4, 5, 6]\n",
      "Documents_weight\n",
      "{}\n",
      "Doc IDs\n",
      "[]\n",
      "Respostas cheio\n",
      "([], {})\n",
      "[]\n",
      "Passei aqui\n",
      "{'belo_horizonte': {'130173', '69168', '97000', '108604', '19588', '91593', '49772', '107302', '29241', '1083', '49186', '136473', '38636', '47967', '35985', '484', '106575', '43658', '101043', '91853', '104137', '80198', '40226', '110030', '18111', '125549', '136473\\n'}, 'irlanda': {'15393', '124818\\n', '3765', '33833', '51778', '95773', '39300', '45577', '105145', '26276', '37632', '44259', '102888', '51716', '43872', '52995', '54836', '51779', '13256', '1196', '46441', '52998', '53004', '105348', '7765', '37935', '47185', '83228', '39049', '9918', '11953', '93223', '51786', '1034', '51714', '9955', '58189', '111966', '1393'}, 'sao_paulo': {'96952', '31890', '1324', '23420', '34981', '34815', '11664', '34912', '35170', '47510', '34876', '35207', '34874', '35226', '34952', '35240', '34890', '123768', '128635', '35056', '34999', '21467', '63586', '58490', '34933', '35054', '35214', '35048', '35206', '35173', '32353', '35221', '34897', '35161', '35222', '23439', '30653', '35039', '35020', '103495', '35204', '35193', '37242', '35023', '32738', '34953', '35145', '23990', '130272', '10792', '120284', '42582', '35028', '34967', '74190', '66592', '113733', '35153', '34699', '71322', '18364', '35083', '35210', '37054', '34979', '23413', '62764', '33850', '111222', '34931', '35114', '35875', '35202', '35063', '104847', '63593', '35212', '124032', '95286', '35040', '36655', '34829', '115341', '76506', '49745', '35055', '34945', '37261', '35148', '126579', '96945', '1719', '107278', '37283', '132760', '34974', '35171', '120924', '23983', '37244', '31888', '34884', '11478', '35229', '124692', '34868', '34840', '35058', '35186', '34958', '30640', '67965', '60431', '35093', '35235', '7687', '21504', '34972', '35216', '50674', '35184', '35122', '34992', '83535', '34784', '34869', '120839', '36511', '30649', '32573', '34907', '77762', '34878', '25107', '35012', '37240', '34940', '26805', '34903', '18769', '34965', '34990', '29477', '45081', '35073', '42255', '34892', '35218', '63715', '35046', '23412', '35067', '84257', '34852', '35109', '15837', '37600', '8170', '35095', '34906', '31202', '35166', '47221', '35077', '110916', '35189', '35086', '34963', '35231', '30016', '34893', '78269', '34984', '121580', '35041', '37297', '35167', '34653', '99800', '35112', '114625', '17703', '115646', '35157', '34879', '34955', '117843', '44001', '53269', '37258', '34939', '34844', '34970', '35181', '34606', '63123', '35047', '34830', '35124', '110028', '34819', '35021', '27897', '35110', '64908', '35160', '37249', '35141', '108256', '101163', '34849', '56690', '34779', '41967', '34800', '34785', '110131', '13726', '34968', '52391', '34857', '107841', '34971', '34998', '106867', '1291', '124892', '9928', '1084', '54205', '34778', '35064', '35000', '44836', '70209', '35149', '9744', '34941', '41761', '72332', '46533', '23441', '34918', '35197', '114091', '114888', '30654', '34773', '34787', '34923', '64326', '96931', '35027', '52388', '35123', '34969', '35101', '35139', '35174', '35092', '35100', '34888', '35036', '62828', '34806', '34841', '35052', '35135', '41906', '47240', '63827', '34936', '44596', '35163', '34786', '34821', '35004', '24007', '35143', '43939', '35227', '30119', '10756', '116543', '34928', '29460', '34891', '35196', '41961', '35134', '9258', '35213', '49752', '35076', '44027', '35031', '41945', '105368', '34919', '35007', '130537', '34807', '120719', '34902', '34886', '23505', '35223', '33739', '104490', '63584', '34850', '35108', '34776', '34777', '18489', '34943', '63613', '35198', '121946', '111495', '37085', '37243', '31880', '34825', '35043', '34814', '41942', '34803', '10558', '37053', '35225', '34900', '22159', '103262', '24088', '131865', '34847', '12383', '34908', '34911', '40127', '54087', '34995', '34872', '35238', '37241', '34798', '35024', '58426', '56310', '30641', '12381', '7847', '35241', '117951', '23402', '113999', '34882', '34613', '78432', '35117', '41958', '63637', '34926', '67685', '34813', '37247', '64678', '105372', '35131', '61403', '57810', '71920', '128906', '31882', '35079', '33530', '35098', '70457', '35194', '107604', '125623', '34861', '34809', '94770', '35029', '127303', '359', '41964', '18482', '34950', '35182', '72497', '54428', '24546', '132679', '34986', '35150', '60377', '37255', '18307', '35217', '35074', '110315', '35022', '35070', '35125', '18299', '35035', '26173', '9277', '35205', '105369', '63702', '35113', '34808', '34812', '1752', '35195', '135137\\n', '34880', '18515', '18305', '35089', '67061', '35059', '67967', '35030', '67301', '18312', '31879', '35087', '34975', '30652', '71562', '34934', '60430', '35061', '118365', '15814', '35177', '34985', '130359', '132004', '127538', '34959', '35144', '112599', '12218', '117875', '63776', '37252', '125876', '34845', '34855', '29476', '34885', '34822', '35168', '108677', '35011', '52221', '35215', '36238', '33267', '34836', '34932', '30669', '41971', '61190', '44033', '34915', '727', '41955', '35183', '35001', '35230', '34627', '63775', '35155', '34832', '34824', '34935', '35165', '18285', '34921', '35102', '34851', '34873', '34982', '35034', '34895', '35049', '37282', '22647', '24089', '23988', '35158', '37256', '34794', '35162', '34914', '123161', '34865', '34831', '37274', '34901', '58105', '18411', '68791', '34978', '59093', '35224', '34898', '34837', '35151', '65568', '820', '35126', '34894', '17768', '3546', '35119', '35138', '35099', '53155', '30658', '35175', '121025', '29427', '34962', '34983', '34770', '41948', '16865', '35201', '35188', '37087', '16722', '31886', '35006', '35115', '120283', '45239', '41944', '34843', '103736', '37265', '35038', '29459', '53833', '123706', '124267', '34862', '34987', '34930', '34863', '34871', '19963', '91915', '116539', '34937', '128145', '35026', '42765', '35111', '35032', '96944', '100337', '27860', '55965', '35132', '35156', '103003', '50702', '30667', '63617', '33643', '38535', '31889', '35069', '18143', '30402', '35239', '71254', '125486', '34858', '35140', '17422', '35233', '34991', '34791', '62759', '35164', '34896', '64679', '35066', '17661', '35002', '37056', '129465', '98274', '35130', '44043', '34820'}}\n",
      "dict_keys(['belo_horizonte', 'irlanda', 'sao_paulo'])\n",
      "entrou aqui\n",
      "{'96952', '31890', '1324', '23420', '34981', '34815', '11664', '34912', '35170', '47510', '34876', '35207', '34874', '35226', '34952', '35240', '34890', '123768', '128635', '35056', '34999', '21467', '63586', '58490', '34933', '35054', '35214', '35048', '35206', '35173', '32353', '35221', '34897', '35161', '35222', '23439', '30653', '35039', '35020', '103495', '35204', '35193', '37242', '35023', '32738', '34953', '35145', '23990', '130272', '10792', '120284', '42582', '35028', '34967', '74190', '66592', '113733', '35153', '34699', '71322', '18364', '35083', '35210', '37054', '34979', '23413', '62764', '33850', '111222', '34931', '35114', '35875', '35202', '35063', '104847', '63593', '35212', '124032', '95286', '35040', '36655', '34829', '115341', '76506', '49745', '35055', '34945', '37261', '35148', '126579', '96945', '1719', '107278', '37283', '132760', '34974', '35171', '120924', '23983', '37244', '31888', '34884', '11478', '35229', '124692', '34868', '34840', '35058', '35186', '34958', '30640', '67965', '60431', '35093', '35235', '7687', '21504', '34972', '35216', '50674', '35184', '35122', '34992', '83535', '34784', '34869', '120839', '36511', '30649', '32573', '34907', '77762', '34878', '25107', '35012', '37240', '34940', '26805', '34903', '18769', '34965', '34990', '29477', '45081', '35073', '42255', '34892', '35218', '63715', '35046', '23412', '35067', '84257', '34852', '35109', '15837', '37600', '8170', '35095', '34906', '31202', '35166', '47221', '35077', '110916', '35189', '35086', '34963', '35231', '30016', '34893', '78269', '34984', '121580', '35041', '37297', '35167', '34653', '99800', '35112', '114625', '17703', '115646', '35157', '34879', '34955', '117843', '44001', '53269', '37258', '34939', '34844', '34970', '35181', '34606', '63123', '35047', '34830', '35124', '110028', '34819', '35021', '27897', '35110', '64908', '35160', '37249', '35141', '108256', '101163', '34849', '56690', '34779', '41967', '34800', '34785', '110131', '13726', '34968', '52391', '34857', '107841', '34971', '34998', '106867', '1291', '124892', '9928', '1084', '54205', '34778', '35064', '35000', '44836', '70209', '35149', '9744', '34941', '41761', '72332', '46533', '23441', '34918', '35197', '114091', '114888', '30654', '34773', '34787', '34923', '64326', '96931', '35027', '52388', '35123', '34969', '35101', '35139', '35174', '35092', '35100', '34888', '35036', '62828', '34806', '34841', '35052', '35135', '41906', '47240', '63827', '34936', '44596', '35163', '34786', '34821', '35004', '24007', '35143', '43939', '35227', '30119', '10756', '116543', '34928', '29460', '34891', '35196', '41961', '35134', '9258', '35213', '49752', '35076', '44027', '35031', '41945', '105368', '34919', '35007', '130537', '34807', '120719', '34902', '34886', '23505', '35223', '33739', '104490', '63584', '34850', '35108', '34776', '34777', '18489', '34943', '63613', '35198', '121946', '111495', '37085', '37243', '31880', '34825', '35043', '34814', '41942', '34803', '10558', '37053', '35225', '34900', '22159', '103262', '24088', '131865', '34847', '12383', '34908', '34911', '40127', '54087', '34995', '34872', '35238', '37241', '34798', '35024', '58426', '56310', '30641', '12381', '7847', '35241', '117951', '23402', '113999', '34882', '34613', '78432', '35117', '41958', '63637', '34926', '67685', '34813', '37247', '64678', '105372', '35131', '61403', '57810', '71920', '128906', '31882', '35079', '33530', '35098', '70457', '35194', '107604', '125623', '34861', '34809', '94770', '35029', '127303', '359', '41964', '18482', '34950', '35182', '72497', '54428', '24546', '132679', '34986', '35150', '60377', '37255', '18307', '35217', '35074', '110315', '35022', '35070', '35125', '18299', '35035', '26173', '9277', '35205', '105369', '63702', '35113', '34808', '34812', '1752', '35195', '135137\\n', '34880', '18515', '18305', '35089', '67061', '35059', '67967', '35030', '67301', '18312', '31879', '35087', '34975', '30652', '71562', '34934', '60430', '35061', '118365', '15814', '35177', '34985', '130359', '132004', '127538', '34959', '35144', '112599', '12218', '117875', '63776', '37252', '125876', '34845', '34855', '29476', '34885', '34822', '35168', '108677', '35011', '52221', '35215', '36238', '33267', '34836', '34932', '30669', '41971', '61190', '44033', '34915', '727', '41955', '35183', '35001', '35230', '34627', '63775', '35155', '34832', '34824', '34935', '35165', '18285', '34921', '35102', '34851', '34873', '34982', '35034', '34895', '35049', '37282', '22647', '24089', '23988', '35158', '37256', '34794', '35162', '34914', '123161', '34865', '34831', '37274', '34901', '58105', '18411', '68791', '34978', '59093', '35224', '34898', '34837', '35151', '65568', '820', '35126', '34894', '17768', '3546', '35119', '35138', '35099', '53155', '30658', '35175', '121025', '29427', '34962', '34983', '34770', '41948', '16865', '35201', '35188', '37087', '16722', '31886', '35006', '35115', '120283', '45239', '41944', '34843', '103736', '37265', '35038', '29459', '53833', '123706', '124267', '34862', '34987', '34930', '34863', '34871', '19963', '91915', '116539', '34937', '128145', '35026', '42765', '35111', '35032', '96944', '100337', '27860', '55965', '35132', '35156', '103003', '50702', '30667', '63617', '33643', '38535', '31889', '35069', '18143', '30402', '35239', '71254', '125486', '34858', '35140', '17422', '35233', '34991', '34791', '62759', '35164', '34896', '64679', '35066', '17661', '35002', '37056', '129465', '98274', '35130', '44043', '34820'}\n"
     ]
    }
   ],
   "source": [
    "from flask import Flask, request, jsonify, abort\n",
    "from flask_restful import Resource, Api\n",
    "from json import dumps\n",
    "from flask_cors import CORS, cross_origin\n",
    "\n",
    "from index.indexer import Cleaner\n",
    "from query.ranking_models import BooleanRankingModel, VectorRankingModel, IndexPreComputedVals, OPERATOR\n",
    "from query.processing import QueryRunner\n",
    "from index.structure import HashIndex,FileIndex,TermOccurrence\n",
    "\n",
    "app = Flask(__name__)\n",
    "cors = CORS(app)\n",
    "app.config['CORS_HEADERS'] = 'Content-Type'\n",
    "\n",
    "api = Api(app)\n",
    "\n",
    "index = FileIndex()\n",
    "index.index(\"sao_paulo\",35020,1)\n",
    "index.index(\"irlanda\",39300,3)\n",
    "index.index(\"espero\",39300,1)\n",
    "index.index(\"que\",11953,1)\n",
    "index.index(\"sao_paulo\",16865,2)\n",
    "index.index(\"estejam\",11953,1)\n",
    "index.index(\"se\",11953,1)\n",
    "index.index(\"sao_paulo\",359,5)\n",
    "index.index(\"irlanda\",37632,4)\n",
    "index.index(\"irlanda\",11953,1)\n",
    "index.finish_indexing()\n",
    "\n",
    "precomp = IndexPreComputedVals(index)\n",
    "\n",
    "class Buscador(Resource):\n",
    "    def get(self):\n",
    "        query = request.args.get('query')\n",
    "        typeValue = request.args.get('type')\n",
    "        operation = request.args.get('operation')\n",
    "        \n",
    "        if query is None or typeValue is None or operation is None:\n",
    "            abort(400, \"Por favor, envie todos os dados\")\n",
    "        \n",
    "        print(query, typeValue, operation)\n",
    "        \n",
    "        if typeValue == 'booleano':\n",
    "            if operation == 'and':\n",
    "                modelo = BooleanRankingModel(OPERATOR.AND)\n",
    "            else:\n",
    "                modelo = BooleanRankingModel(OPERATOR.OR)\n",
    "        else:\n",
    "            modelo = VectorRankingModel(precomp)\n",
    "        \n",
    "        relevantes = QueryRunner.get_relevance_per_query(query) # Recebe todos os docs \n",
    "        #queryRunner = QueryRunner(modelo, index, cleaner)\n",
    "        #print(relevantes)\n",
    "        QueryRunner.runQuery(query, index, precomp, relevantes, modelo)\n",
    "        result = [1,2,3,4,5,6]\n",
    "        return jsonify(result)\n",
    "\n",
    "api.add_resource(Buscador, '/buscador') \n",
    "\n",
    "if __name__ == '__main__':\n",
    "    app.run()"
   ]
  },
  {
   "cell_type": "code",
   "execution_count": null,
   "metadata": {},
   "outputs": [],
   "source": [
    "from flask import Flask, request, jsonify, abort\n",
    "from flask_restful import Resource, Api\n",
    "from json import dumps\n",
    "from flask_cors import CORS, cross_origin\n",
    "\n",
    "from index.indexer import Cleaner\n",
    "from query.ranking_models import BooleanRankingModel, VectorRankingModel, IndexPreComputedVals, OPERATOR\n",
    "from query.processing import QueryRunner\n",
    "from index.structure import HashIndex,FileIndex,TermOccurrence\n",
    "\n",
    "query = \"Ins\"\n",
    "relevantes = QueryRunner.get_relevance_per_query(query)\n",
    "for teste in relevantes:\n",
    "    print(teste)\n",
    "    if ['69168'] in relevantes[teste]:\n",
    "        print(\"Entrou\")\n",
    "print(relevantes)\n",
    "\n",
    "\n"
   ]
  },
  {
   "cell_type": "code",
   "execution_count": null,
   "metadata": {},
   "outputs": [],
   "source": [
    "from index.indexer import Cleaner\n",
    "from query.ranking_models import BooleanRankingModel, VectorRankingModel, IndexPreComputedVals, OPERATOR\n",
    "from query.processing import QueryRunner\n",
    "from index.structure import HashIndex,FileIndex,TermOccurrence\n",
    "\n",
    "QueryRunner.main()\n"
   ]
  }
 ],
 "metadata": {
  "kernelspec": {
   "display_name": "Python 3",
   "language": "python",
   "name": "python3"
  },
  "language_info": {
   "codemirror_mode": {
    "name": "ipython",
    "version": 3
   },
   "file_extension": ".py",
   "mimetype": "text/x-python",
   "name": "python",
   "nbconvert_exporter": "python",
   "pygments_lexer": "ipython3",
   "version": "3.8.5"
  }
 },
 "nbformat": 4,
 "nbformat_minor": 4
}
