{
 "cells": [
  {
   "cell_type": "markdown",
   "metadata": {},
   "source": [
    "Este projeto você irá implementar o processamento de consultas. Nela, você utilizará o índice para retornar uma coleção ordenada e avaliação de algumas consultas selecionadas. Para isso, vocês deverão implementar alguns métodos das seguintes classes.\n",
    "\n",
    "- `IndexPreComputedVals`: Em alguns modelos, há a necessidade de processar alguns valores para que, no momento da execução da consulta, seja retornado de forma mais rápida. Esta classe analisa o índice e armazena informações necessárias para o calculo de cada tipo de modelagem;\n",
    "- `RankingModel`: Classe abstrata para a criação dos modelos. Ele possui o método `get_ordered_docs` a ser implementado por suas subclasses;\n",
    "- `BooleanRankingModel` Classe que retorna um resultado de consulta por meio do [modelo booleano](https://docs.google.com/presentation/d/1V62ll_IXRrsp6TYUHjx_T4jIyIc1ZVJYoOSwsxObybE/edit?usp=sharing)\n",
    "- `VectorRankingModel`: Classe que retorna um resultado de consulta por meio do [modelo vetorial](https://docs.google.com/presentation/d/1jsD1MpLIl08OnWysDhjp7glc4_K0sH9sKUhRqI8lLLo/edit?usp=sharing)\n",
    "- `QueryRunner`: Classe principal encarregada de obter a consulta e retornar os resultados;\n",
    "\n",
    "\n",
    "Este trabalho depende do código do indice (pacote `index`). Assim, você deve adicioná-o apropriadamente para dar continuidade ao projeto. \n"
   ]
  },
  {
   "cell_type": "markdown",
   "metadata": {},
   "source": [
    "## Modelagem Booleana e Vetorial"
   ]
  },
  {
   "cell_type": "markdown",
   "metadata": {},
   "source": [
    "** Atividade 1 - Modelagem Booleana**: A abordagem booleana neste trabalho é simplificada. O modelo recebe possui o atributo `operator` que é uma instancia do [Enum](https://docs.python.org/3.4/library/enum.html) Operator. Caso o operador seja AND, será feito a operacao de interseção entre todos os documentos contidos ocorrencias de palavras, caso contrario, sendo OR, será feito a união. Exemplo: "
   ]
  },
  {
   "cell_type": "code",
   "execution_count": null,
   "metadata": {},
   "outputs": [],
   "source": [
    "from index.structure import TermOccurrence\n",
    "map_ocorrencias = {\"saturno\":[TermOccurrence(1,1,1),\n",
    "                            TermOccurrence(3,1,1)],\n",
    "                     \"plutao\":[TermOccurrence(2,5,1),\n",
    "                               TermOccurrence(4,5,1)],\n",
    "                        \"terra\":[TermOccurrence(1,2,1),\n",
    "                            TermOccurrence(2,2,1),\n",
    "                            TermOccurrence(4,2,1),],\n",
    "                        \"venus\":[TermOccurrence(1,3,1),\n",
    "                                TermOccurrence(2,3,1),\n",
    "                                TermOccurrence(3,3,1),\n",
    "                                TermOccurrence(4,3,1)],\n",
    "                        \"marte\":[TermOccurrence(1,4,2),\n",
    "                            TermOccurrence(3,4,1),\n",
    "                            TermOccurrence(4,4,1),],\n",
    "\n",
    "                        \"mercurio\":[TermOccurrence(3,6,1)]          \n",
    "    }"
   ]
  },
  {
   "cell_type": "markdown",
   "metadata": {},
   "source": [
    "A intereseção entre `saturno` e `venus` resultará nos documentos 1 e 3 e, a união, nos documentos 1, 2, 3 e 4."
   ]
  },
  {
   "cell_type": "markdown",
   "metadata": {},
   "source": [
    "Esta é uma forma bem simplificada para implementarmos o modelo booleano. Para isso, você deverá implementar os métodos `union_all` e `intersection_all` presentes na classe `BooleanRankingModel` no arquivo `ranking_models.py`. Esses métodos recebem como parâmetro um mapa com a lista de correncias de cada termo (similar a exemplificada acima)."
   ]
  },
  {
   "cell_type": "code",
   "execution_count": 1,
   "metadata": {},
   "outputs": [
    {
     "name": "stdout",
     "output_type": "stream",
     "text": [
      ".\n",
      "----------------------------------------------------------------------\n",
      "Ran 1 test in 0.000s\n",
      "\n",
      "OK\n"
     ]
    }
   ],
   "source": [
    "!python3 -m query.tests.ranking_models RankingModelTest.test_boolean_model"
   ]
  },
  {
   "cell_type": "markdown",
   "metadata": {},
   "source": [
    "**Atividade 2 - TF-IDF: ** Agora, no mesmo arquivo, iremos finalizar a implementação do modelo Vetorial utilizando a classe `VectorRankingModel`. Nesta classe, primeiramente, você deverá implementar os [métodos estáticos](https://daniel-hasan.github.io/cefet-web-grad/classes/python2/) `tf`, `idf` e `tf_idf`. Sendo que $TF = 1+log_2(f_{ij})$ e $IDF_i = log_2(\\frac{N}{n_i})$ em que $f_{ij}$ é a frequência do termo $i$ no documento $j$, $N$ é o número de documentos e $n_i$ é o número de documentos que ocorrem o termo $i$. Abaixo, faça testes destes métodos: "
   ]
  },
  {
   "cell_type": "code",
   "execution_count": 2,
   "metadata": {},
   "outputs": [
    {
     "name": "stdout",
     "output_type": "stream",
     "text": [
      "OK\n",
      "Resultado inesperado para IDF: 0.4150374992788437. Esperava-se: 0.415\n",
      "Resultado inesperado para TF_IDF: 0.4150374992788437. Esperava-se: 0.415\n"
     ]
    }
   ],
   "source": [
    "from query.ranking_models import *\n",
    "from index.structure import *\n",
    "\n",
    "index = FileIndex()\n",
    "precomp = IndexPreComputedVals(index)\n",
    "vectorRank = VectorRankingModel(precomp)\n",
    "\n",
    "doc_count=4\n",
    "freq_term=1\n",
    "num_docs_with_term=3\n",
    "\n",
    "tf_esperado = 1\n",
    "idf_esperado = 0.415\n",
    "tf_idf_esperado = 0.415\n",
    "\n",
    "tf_calc = vectorRank.tf(freq_term)\n",
    "idf_calc = vectorRank.idf(doc_count,num_docs_with_term)\n",
    "\n",
    "if tf_esperado == tf_calc:\n",
    "    print('OK')\n",
    "else:\n",
    "    print(f'Resultado inesperado para TF: {tf_calc}. Esperava-se: {tf_esperado}')\n",
    "    \n",
    "\n",
    "if idf_esperado == idf_calc:\n",
    "    print('OK')\n",
    "else:\n",
    "    print(f'Resultado inesperado para IDF: {idf_calc}. Esperava-se: {idf_esperado}')\n",
    "\n",
    "tf_idf_calc = vectorRank.tf_idf(doc_count, freq_term, num_docs_with_term)\n",
    "if tf_idf_esperado == tf_idf_calc:\n",
    "    print('OK')\n",
    "else:\n",
    "    print(f'Resultado inesperado para TF_IDF: {tf_idf_calc}. Esperava-se: {tf_idf_esperado}') \n"
   ]
  },
  {
   "cell_type": "markdown",
   "metadata": {},
   "source": [
    "**Atividade 3 - PreComputedVals: ** No modelo vetorial temos que calcular a norma de cada documento $d_j$. Esse calculo não pode ser feito durante o preprocessamento da consulta. Assim, na classe `IndexPreComputedVals` possui o atributo `document_norm` que é um dicionário que mapeia cada documnto $j$ à sua norma. Esse calculo é feito apenas uma vez ao iniciar o programa. \n",
    "\n",
    "Desta forma, você deverá terminar de implementar o método `precompute_vals` que percorre todo o índice e armazena a norma de cada documento."
   ]
  },
  {
   "cell_type": "code",
   "execution_count": 3,
   "metadata": {},
   "outputs": [
    {
     "name": "stdout",
     "output_type": "stream",
     "text": [
      "new\n",
      "york\n",
      "times\n",
      "post\n",
      "los\n",
      "angeles\n",
      ".\n",
      "----------------------------------------------------------------------\n",
      "Ran 1 test in 0.001s\n",
      "\n",
      "OK\n"
     ]
    }
   ],
   "source": [
    "!python3 -m query.tests.ranking_models RankingModelTest.test_precomputed_vals"
   ]
  },
  {
   "cell_type": "markdown",
   "metadata": {},
   "source": [
    "**Atividade 4 - Método `get_ordered_docs` da classe `VectorRankingModel`: ** Usando os métodos implementados anteriormente você deverá ordenar os documentos contidos no mapa de ocorrencias `docs_occur_per_term` de acordo com a consulta `query` utilizando o modelo vetorial. O parametro `query` mapeia um termo presente na consulta, para a sua ocorrencia (objeto da classe `TermOcurrence`. Para cada termo $t$ que ocorre na consulta, `docs_occur_per_term` mapeia cada termo com a lista de ocorrencias dele no índice. Veja abaixo um exemplo destes parametros usando a consulta `to be or not to be`.  Veja que, na consulta, `doc_id = None`."
   ]
  },
  {
   "cell_type": "code",
   "execution_count": 4,
   "metadata": {},
   "outputs": [],
   "source": [
    "from index.structure import *\n",
    "query = {\"to\":TermOccurrence(None, 1, 2),\n",
    "         \"be\":TermOccurrence(None, 2, 2),\n",
    "          \"or\":TermOccurrence(None, 3, 1),\n",
    "          \"not\":TermOccurrence(None, 4, 1),}\n",
    "docs_occur_per_term = {\n",
    "                                    \"to\":[TermOccurrence(1, 1, 4),\n",
    "                                          TermOccurrence(2, 1, 1),],\n",
    "                                      \"be\":[TermOccurrence(1, 2, 1),TermOccurrence(2, 2, 1)],\n",
    "                                     \"or\":[TermOccurrence(2, 3, 1)],\n",
    "                                    \"not\":[TermOccurrence(3, 4, 1)],\n",
    "                                }"
   ]
  },
  {
   "cell_type": "markdown",
   "metadata": {},
   "source": [
    "Esse método retorna dois valores: (a) uma lista de ids de documentos ordenada de acordo com o modelo vetorial - use o método e um dicionário que mapeia, para cada documento, o seu peso. O método `rank_document_ids` será útil. "
   ]
  },
  {
   "cell_type": "code",
   "execution_count": 5,
   "metadata": {},
   "outputs": [
    {
     "name": "stdout",
     "output_type": "stream",
     "text": [
      ".\n",
      "----------------------------------------------------------------------\n",
      "Ran 1 test in 0.000s\n",
      "\n",
      "OK\n"
     ]
    }
   ],
   "source": [
    "!python3 -m query.tests.ranking_models RankingModelTest.test_vector_model"
   ]
  },
  {
   "cell_type": "markdown",
   "metadata": {},
   "source": [
    "## Processamento da Consulta e Avaliação"
   ]
  },
  {
   "cell_type": "markdown",
   "metadata": {},
   "source": [
    "Agora você irá fazer o processamento da consulta, informada pelo usuário, além de sua avaliação. A implementação do processamento de consultas será feito na classe `QueryRunner` do arquivo `processing.py`.\n",
    "\n",
    "**Requisito antes de começar:** o código que foi feito da indexação deve estar funcionando. Será utilizado a base de dados da Wikipédia. Você não deverá fazer a indexação toda quando iniciar o programa, ao invés disso, você deve persistir o indice todo em arquivo após a indexação. Usando FileIndex, como as ocorrencias já estão armazenadas em arquivo, você precisa armazenar apenas o conteúdo do `dic_index`. A [biblioteca json](https://docs.python.org/3/library/json.html) pode ajudar. Este índice será lido do arquivo apenas uma vez no início da execução do programa."
   ]
  },
  {
   "cell_type": "markdown",
   "metadata": {},
   "source": [
    "**Criação da coleção de referência: ** Para o projeto realizaremos uma avaliação bem simples, com o único intuito de simularmos um processo real de avaliação. Para tanto, consideraremos como conjunto de consultas de teste apenas três consultas:\n",
    "'Irlanda'\n",
    "'Belo Horizonte' e \n",
    "'São Paulo'\n",
    "\n",
    "O conjunto de documentos de teste compreenderá todas as páginas da base de dados da Wikipédia PT-BR utilizadas no projeto.  Para cada consulta, disponibilizamos um arquivo (na pasta `relevant_docs`) com o id de documentos relevantes (separados por vírgula) para as consultas teste.\n",
    "\n",
    "Por exemplo, um documento $D$ será considerado relevante para a consulta 'Belo Horizonte' somente \n",
    "se o id de $D$ estiver no arquivo `belo_horizonte.dat`. Você irá armazenar o conteúdo desses arquivos em memória para diminuir o tempo de busca. Feito isso, a coleção de referência para as três consultas estará montada e pode-se realizar os cálculos de avaliação corretamente.\n",
    "\n",
    "**Como um artigo foi considerado relevante para uma determinada consulta?** A Wikipedia organiza seus artigos em diversas categorias. Assim, para considerarmos se um artigo da Wikipédia é relevante, utilizamos essas categorias. Assim, para os documentos relevantes para a consulta 'Irlanda' (Arquivo `irlanda.dat`), foram considerados relevantes artigos da seguintes categorias: \n",
    " \n",
    "- Irlanda\n",
    "- Economia da Irlanda\n",
    "- História da Irlanda\n",
    "- Cultura da Irlanda\n",
    "- Romancistas da Irlanda\n",
    "- Físicos da Irlanda\n",
    "- Reis da Irlanda\n",
    "- Lordes da Irlanda\n",
    "\n",
    "Categorias relevantes para a consulta 'Belo Horizonte' (Arquivo `belo_horizonte.dat`): \n",
    "\n",
    "- Bairros de Belo Horizonte\n",
    "- Bandas de Belo Horizonte\n",
    "- Belo Horizonte\n",
    "- Edifícios de Belo Horizonte\n",
    "- Metrô de Belo Horizonte\n",
    "- Naturais de Belo Horizonte\n",
    "- Prefeitos de Belo Horizonte\n",
    "- Vereadores de Belo Horizonte\n",
    "\n",
    "Categorias relevantes para a consulta 'São Paulo' (arquivo `sao_paulo.dat`):\n",
    "\n",
    "- Atrações turísticas da cidade de São Paulo\n",
    "- Áreas protegidas de São Paulo\n",
    "- Prefeitos de São Paulo\n",
    "- São Paulo\n",
    "- Turismo em São Paulo\n",
    "- Universidades de São Paulo\n",
    "- Rodovias de São Paulo\n",
    "- Museus da cidade de São Paulo\n",
    "- Governadores de São Paulo\n",
    "- Municípios de São Paulo"
   ]
  },
  {
   "cell_type": "markdown",
   "metadata": {},
   "source": [
    "**Atividade 5 - Leitura dos arquivos de relevâncias: ** Você deverá implementar o método `get_relevance_per_query` que irá ler todos os arquivo da pasta `relevant_docs` e, com isso, retornar um mapeamento em que a chave é a string de consulta e o valor é o **conjunto** de ids de documentos. Veja um exemplo de retorno com as consultas `Bolívia`, `Brasil` e `Porto Seguro`: \n"
   ]
  },
  {
   "cell_type": "code",
   "execution_count": null,
   "metadata": {},
   "outputs": [],
   "source": [
    "retorno = {\"Bolívia\":{1,3,5,6,233},\n",
    "            \"Brasil\":{2,4,5,3},\n",
    "           \"Porto Seguro\":{3,43,21,3,12,233}\n",
    "          }"
   ]
  },
  {
   "cell_type": "markdown",
   "metadata": {},
   "source": [
    "Faça um teste de execução abaixo: "
   ]
  },
  {
   "cell_type": "code",
   "execution_count": null,
   "metadata": {},
   "outputs": [],
   "source": []
  },
  {
   "cell_type": "markdown",
   "metadata": {},
   "source": [
    "**Atividade 6 - count_top_n_relevant: ** Um método que auxilirará vocês na avaliação é o método count_top_n_relevant da classe Query Runner.  Esse método calcula a quantidade de documentos relevantes nas top `n` posições da lista `lstResposta` que é a resposta a uma consulta - lista de ids de documentos. `lstResposta` será a lista de respostas ordenadas por um método de processamento de consulta (BM25, Modelo vetorial). Os ids de documentos relevantes estão no parametro `docRelevantes`."
   ]
  },
  {
   "cell_type": "code",
   "execution_count": 6,
   "metadata": {},
   "outputs": [
    {
     "name": "stdout",
     "output_type": "stream",
     "text": [
      "adoro\n",
      "vocês\n",
      "espero\n",
      "que\n",
      "estejam\n",
      "se\n",
      "divertindo\n",
      ".\n",
      "----------------------------------------------------------------------\n",
      "Ran 1 test in 0.001s\n",
      "\n",
      "OK\n"
     ]
    }
   ],
   "source": [
    "!python3 -m query.tests.processing ProcessingTest.test_count_top_n_relevant"
   ]
  },
  {
   "cell_type": "markdown",
   "metadata": {},
   "source": [
    "**Atividade 7 - processamento da consulta**: O método `get_query_term_occurence` a consulta da mesma forma que foi preprocessado o texto do documento (use a classe `Cleaner` para isso). Este método irá retonar a consulta em um dicionario em que chave é o termo que ocorreu e o valor é uma instancia da classe TermOccurrence (ver Atividade 4). O doc_id deverá ser sempre None. Caso o termo nao exista no indice, ele será desconsiderado."
   ]
  },
  {
   "cell_type": "code",
   "execution_count": 7,
   "metadata": {},
   "outputs": [
    {
     "name": "stdout",
     "output_type": "stream",
     "text": [
      "adoro\n",
      "vocês\n",
      "espero\n",
      "que\n",
      "estejam\n",
      "se\n",
      "divertindo\n",
      "Consulta: crocodilo\n",
      "Resposta do método: {}\n",
      "\n",
      "Consulta: vocês\n",
      "Resposta do método: {'vocês': (term_id:2 doc: None freq: 1)}\n",
      "\n",
      "Consulta: Vocês estejam\n",
      "Resposta do método: {'vocês': (term_id:2 doc: None freq: 1), 'estejam': (term_id:5 doc: None freq: 1)}\n",
      "\n",
      "Consulta: vocês vocês crocodilo\n",
      "Resposta do método: {'vocês': (term_id:2 doc: None freq: 2)}\n",
      "\n",
      ".\n",
      "----------------------------------------------------------------------\n",
      "Ran 1 test in 0.002s\n",
      "\n",
      "OK\n"
     ]
    }
   ],
   "source": [
    "!python3 -m query.tests.processing ProcessingTest.test_get_query_term_occurence"
   ]
  },
  {
   "cell_type": "markdown",
   "metadata": {},
   "source": [
    "**Atividade 8 - Recuperação dos termos da consulta no índice: ** O método `get_occurrence_list_per_term` possui com parametro a lista de termos da consulta. Este método retorna um dicionario com a lista de ocorrencia no indice de cada termo passado como parametro. Caso o termo não exista, este termo possuirá uma lista vazia. Veja o exemplo na atividade 4."
   ]
  },
  {
   "cell_type": "code",
   "execution_count": 8,
   "metadata": {},
   "outputs": [
    {
     "name": "stdout",
     "output_type": "stream",
     "text": [
      "adoro\n",
      "vocês\n",
      "espero\n",
      "que\n",
      "estejam\n",
      "se\n",
      "divertindo\n",
      "Termos: ['crocodilo']\n",
      "Resposta do método: {'crocodilo': []}\n",
      "\n",
      "Termos: ['vocês', 'estejam', 'crocodilo']\n",
      "Resposta do método: {'vocês': [(term_id:2 doc: 2 freq: 3), (term_id:2 doc: 3 freq: 1)], 'estejam': [(term_id:5 doc: 3 freq: 1)], 'crocodilo': []}\n",
      "\n",
      ".\n",
      "----------------------------------------------------------------------\n",
      "Ran 1 test in 0.001s\n",
      "\n",
      "OK\n"
     ]
    }
   ],
   "source": [
    "!python3 -m query.tests.processing ProcessingTest.test_get_occurence_list_per_term"
   ]
  },
  {
   "cell_type": "markdown",
   "metadata": {},
   "source": [
    "**Atividade 9 - processamento da consulta: ** Este método recebe como parametro a consulta, os valores precomputado do índice e o dicionário de documentos relevantes (extraídos do método `get_relevance_per_query`) para retornar uma lista de IDs ordenados de acordo com a consulta utilizando o modelo de ranking e indice que são os atributos `index` e "
   ]
  },
  {
   "cell_type": "code",
   "execution_count": 9,
   "metadata": {},
   "outputs": [
    {
     "name": "stdout",
     "output_type": "stream",
     "text": [
      "adoro\n",
      "vocês\n",
      "espero\n",
      "que\n",
      "estejam\n",
      "se\n",
      "divertindo\n",
      "Pesos dos documento da consulta 'crocodilo': {}\n",
      "\n",
      "Pesos dos documento da consulta 'vocês': {2: 0.40389286867379515, 3: 0.12177264314944791}\n",
      "\n",
      "Pesos dos documento da consulta 'Vocês estejam': {2: 0.40389286867379515, 3: 1.0157605893032775}\n",
      "\n",
      "Pesos dos documento da consulta 'vocês vocês crocodilo': {2: 0.8077857373475903, 3: 0.24354528629889582}\n",
      "\n",
      ".\n",
      "----------------------------------------------------------------------\n",
      "Ran 1 test in 0.002s\n",
      "\n",
      "OK\n"
     ]
    }
   ],
   "source": [
    "!python3 -m query.tests.processing ProcessingTest.test_get_docs_term"
   ]
  },
  {
   "cell_type": "markdown",
   "metadata": {},
   "source": [
    "**Atividade 10: Método estático runQuery e criação da interface de caracteres - ou uso da interface gráfica/web: ** Você deverá fazer um método que utilizando o indice, valores precomputados e o dicionario de indices relevantes:\n",
    "            \n",
    "- Instanciar um objeto de uma subclasse de RankingModel, de acordo com o que foi solicitado pelo usuário\n",
    "- Preprocessar os termos da consulta\n",
    "- Obter no indice as ocorrencias de cada termo do indice\n",
    "- Utilize o método get_docs_term para obter a lista de documentos que responde esta consulta\n",
    "- Caso seja uma consulta que possua documentos relevantes assinalados, fazer a avaliação da precisão e revocação dos top 10, 20 e 50\n",
    "- Imprimir as top 10 respostas. \n",
    "            \n",
    "Você deverá criar uma interface de carcteres para solicitar ao usuario a consulta e a modelagem a ser usada. Caso opte por uma interface de caracteres,faça também uma função main em processing e, abaixo, execute-a para mostrar como exemplo. Caso deseje, ao inves disso, você pode também fazer uma interface gráfica. Para testar este método, você deverá usar o indice da Wikipedia. Além disso, você deverá fazer uma análise e acordo com o guia de escrita do relatório sobre as as consultas da coleção de referencia. Para melhorar a apresentação, o arquivo `titlePerDoc.dat` apresenta o título do artigo por id do mesmo. O arquivo `itens obrigatorios - reltorio processamento de consulta.pdf` demonstra os itens obrigatórios do relatório.\n",
    "\n",
    "Você tem a liberdade de alterar este método como bem entender, mas lembre-se que os valores precomputados devem ser executado uma vez só durante a execução do programa antes da solicitação das consultas para que a consulta não fique lenta. Além disso, você deve ler o arquivo do índice também apenas uma vez (não indexe a Wikipedia novamente e sim leia o arquivo do indice gravado em memória). Caso deseje, você pode modificar o IndexPreComputedVals para armazenar mais elementos precomputados que facilitariam a consulta (ou a exibição da mesma). \n",
    "\n",
    " Caso opte por fazer uma interface web, deve estar claro as instruções para que seja possível executa-la, inclusive, as suas dependencias. Para melhoria de organização, a parte de interface grafica ou web deve ser feita em outros arquivos."
   ]
  },
  {
   "cell_type": "markdown",
   "metadata": {},
   "source": [
    "Para rodar a api, necessário instalar alguns pacotes:\n",
    "- pip install flask flask-jsonpify flask-restful\n",
    "- pip install -U flask-cors"
   ]
  },
  {
   "cell_type": "code",
   "execution_count": 3,
   "metadata": {},
   "outputs": [
    {
     "name": "stdout",
     "output_type": "stream",
     "text": [
      "sao_paulo\n",
      "irlanda\n",
      "espero\n",
      "que\n",
      "estejam\n",
      "se\n",
      " * Serving Flask app \"__main__\" (lazy loading)\n",
      " * Environment: production\n",
      "   WARNING: This is a development server. Do not use it in a production deployment.\n",
      "   Use a production WSGI server instead.\n",
      " * Debug mode: off\n"
     ]
    },
    {
     "name": "stderr",
     "output_type": "stream",
     "text": [
      " * Running on http://127.0.0.1:5000/ (Press CTRL+C to quit)\n"
     ]
    }
   ],
   "source": [
    "# Atividade 10 - Teste simples para verificar funcionalidade\n",
    "from flask import Flask, request, jsonify, abort\n",
    "from flask_restful import Resource, Api\n",
    "from json import dumps\n",
    "from flask_cors import CORS, cross_origin\n",
    "\n",
    "from index.indexer import Cleaner\n",
    "from query.ranking_models import BooleanRankingModel, VectorRankingModel, IndexPreComputedVals, OPERATOR\n",
    "from query.processing import QueryRunner\n",
    "from index.structure import HashIndex,FileIndex,TermOccurrence\n",
    "\n",
    "app = Flask(__name__)\n",
    "cors = CORS(app)\n",
    "app.config['CORS_HEADERS'] = 'Content-Type'\n",
    "\n",
    "api = Api(app)\n",
    "\n",
    "index = FileIndex()\n",
    "index.index(\"sao_paulo\",35020,1)\n",
    "index.index(\"irlanda\",39300,3)\n",
    "index.index(\"espero\",39300,1)\n",
    "index.index(\"que\",11953,1)\n",
    "index.index(\"sao_paulo\",16865,2)\n",
    "index.index(\"estejam\",11953,1)\n",
    "index.index(\"se\",11953,1)\n",
    "index.index(\"sao_paulo\",359,5)\n",
    "index.index(\"irlanda\",37632,4)\n",
    "index.index(\"irlanda\",11953,1)\n",
    "index.finish_indexing()\n",
    "\n",
    "precomp = IndexPreComputedVals(index)\n",
    "\n",
    "class Buscador(Resource):\n",
    "    def get(self):\n",
    "        query = request.args.get('query')\n",
    "        typeValue = request.args.get('type')\n",
    "        operation = request.args.get('operation')\n",
    "        \n",
    "        if query is None or typeValue is None or operation is None:\n",
    "            abort(400, \"Por favor, envie todos os dados\")\n",
    "        \n",
    "        print(query, typeValue, operation)\n",
    "        \n",
    "        if typeValue == 'booleano':\n",
    "            if operation == 'and':\n",
    "                modelo = BooleanRankingModel(OPERATOR.AND)\n",
    "            else:\n",
    "                modelo = BooleanRankingModel(OPERATOR.OR)\n",
    "        else:\n",
    "            modelo = VectorRankingModel(precomp)\n",
    "        \n",
    "        relevantes = QueryRunner.get_relevance_per_query(query) # Recebe todos os docs \n",
    "        #queryRunner = QueryRunner(modelo, index, cleaner)\n",
    "        #print(relevantes)\n",
    "        QueryRunner.runQuery(query, index, precomp, relevantes, modelo)\n",
    "        result = [1,2,3,4,5,6]\n",
    "        return jsonify(result)\n",
    "\n",
    "api.add_resource(Buscador, '/buscador') \n",
    "\n",
    "if __name__ == '__main__':\n",
    "    app.run()"
   ]
  },
  {
   "cell_type": "code",
   "execution_count": 1,
   "metadata": {},
   "outputs": [
    {
     "name": "stdout",
     "output_type": "stream",
     "text": [
      "Done\n",
      "Finishing Indexing\n"
     ]
    }
   ],
   "source": [
    "# Essa função foi feita para ler o index e construir o mesmo\n",
    "import json\n",
    "from index.structure import HashIndex,FileIndex,TermOccurrence\n",
    "from index.indexer import Cleaner\n",
    "from query.ranking_models import BooleanRankingModel, VectorRankingModel, IndexPreComputedVals, OPERATOR\n",
    "from query.processing import QueryRunner\n",
    "from index.structure import HashIndex,FileIndex,TermOccurrence\n",
    "\n",
    "index = FileIndex()\n",
    "\n",
    "# Para rodar com o index completo, descomente a linha abaixo e comente a linha após ela\n",
    "#with open(\"indexador_hash_index.json\") as json_file: \n",
    "with open(\"partial_indexador_hash_index.json\") as json_file: \n",
    "    data = json.load(json_file)\n",
    "    data.keys()\n",
    "    for term in data.keys():\n",
    "        arrayOccurrence = data[term]\n",
    "        for i in arrayOccurrence:\n",
    "            s2 = i.split(':')[2].split(' ')[1]            \n",
    "            s3 = i.split(':')[3]\n",
    "            s3 = int(s3.replace(')','').split(' ')[1])\n",
    "            index.index(str(term),int(s2),int(s3))\n",
    "\n",
    "print('Done')\n",
    "index.finish_indexing()\n",
    "print('Finishing Indexing')"
   ]
  },
  {
   "cell_type": "code",
   "execution_count": 2,
   "metadata": {},
   "outputs": [
    {
     "name": "stdout",
     "output_type": "stream",
     "text": [
      "Done PreComputedVals\n"
     ]
    }
   ],
   "source": [
    "import json\n",
    "from query.ranking_models import IndexPreComputedVals\n",
    "\n",
    "# Precomp vals trava (Minha máquina ficou lerdaça)\n",
    "precomp = IndexPreComputedVals(index)\n",
    "\n",
    "print('Done PreComputedVals')"
   ]
  },
  {
   "cell_type": "code",
   "execution_count": 3,
   "metadata": {},
   "outputs": [
    {
     "name": "stdout",
     "output_type": "stream",
     "text": [
      " * Serving Flask app \"__main__\" (lazy loading)\n",
      " * Environment: production\n",
      "\u001b[31m   WARNING: This is a development server. Do not use it in a production deployment.\u001b[0m\n",
      "\u001b[2m   Use a production WSGI server instead.\u001b[0m\n",
      " * Debug mode: off\n"
     ]
    },
    {
     "name": "stderr",
     "output_type": "stream",
     "text": [
      " * Running on http://127.0.0.1:5000/ (Press CTRL+C to quit)\n"
     ]
    }
   ],
   "source": [
    "# Relatório começa aqui - \n",
    "from datetime import datetime\n",
    "from flask import Flask, request, jsonify, abort\n",
    "from flask_restful import Resource, Api\n",
    "from json import dumps\n",
    "from flask_cors import CORS, cross_origin\n",
    "\n",
    "from index.indexer import Cleaner\n",
    "from query.ranking_models import BooleanRankingModel, VectorRankingModel, IndexPreComputedVals, OPERATOR\n",
    "from query.processing import QueryRunner\n",
    "from index.structure import HashIndex,FileIndex,TermOccurrence\n",
    "\n",
    "app = Flask(__name__)\n",
    "cors = CORS(app)\n",
    "app.config['CORS_HEADERS'] = 'Content-Type'\n",
    "\n",
    "api = Api(app)\n",
    "\n",
    "class Buscador(Resource):\n",
    "    def get(self):\n",
    "        query = request.args.get('query')\n",
    "        typeValue = request.args.get('type')\n",
    "        operation = request.args.get('operation')\n",
    "        \n",
    "        if query is None or typeValue is None or operation is None:\n",
    "            abort(400, \"Por favor, envie todos os dados\")\n",
    "        \n",
    "        print(query, typeValue, operation)\n",
    "        \n",
    "        if typeValue == 'booleano':\n",
    "            if operation == 'and':\n",
    "                modelo = BooleanRankingModel(OPERATOR.AND)\n",
    "            else:\n",
    "                modelo = BooleanRankingModel(OPERATOR.OR)\n",
    "        else:\n",
    "            modelo = VectorRankingModel(precomp)\n",
    "        \n",
    "        relevantes = QueryRunner.get_relevance_per_query(query) # Recebe todos os docs \n",
    "\n",
    "        result = QueryRunner.runQuery(query, index, precomp, relevantes, modelo)\n",
    "        return jsonify(result)\n",
    "\n",
    "api.add_resource(Buscador, '/buscador') \n",
    "\n",
    "if __name__ == '__main__':\n",
    "    app.run()"
   ]
  },
  {
   "cell_type": "code",
   "execution_count": 4,
   "metadata": {},
   "outputs": [
    {
     "name": "stdout",
     "output_type": "stream",
     "text": [
      "10 termos com maiores IDFs\n",
      "Termo = \"na\" IDF = 1.6500485620753123\n",
      "Termo = \"portugues\" IDF = 2.0480004428121856\n",
      "Termo = \"habit\" IDF = 2.203573134283397\n",
      "Termo = \"especial\" IDF = 2.319889567037851\n",
      "Termo = \"irlanda2\" IDF = 2.325173836436094\n",
      "Termo = \"direit\" IDF = 2.46138183489641\n",
      "Termo = \"fregues\" IDF = 2.7502867023263042\n",
      "Termo = \"concelh\" IDF = 2.8912749391247328\n",
      "Termo = \"2009\" IDF = 2.901581884928775\n",
      "Termo = \"falec\" IDF = 3.0144980978569422\n",
      "\n",
      "10 termos com menores IDFs\n",
      "Termo = \"6,24\" IDF = 13.2733585292667\n",
      "Termo = \"viariz\" IDF = 12.951430434379336\n",
      "Termo = \"belo_horizonte\" IDF = 12.103433527824386\n",
      "Termo = \"claudet\" IDF = 11.688396028545544\n",
      "Termo = \"sao_paulo\" IDF = 11.572918811125609\n",
      "Termo = \"irlanda\" IDF = 10.572918811125607\n",
      "Termo = \"pipoc\" IDF = 9.2733585292667\n",
      "Termo = \"troian\" IDF = 8.830415033417971\n",
      "Termo = \"baia\" IDF = 7.942441651152083\n",
      "Termo = \"engrac\" IDF = 7.822147417434371\n"
     ]
    }
   ],
   "source": [
    "from collections import OrderedDict\n",
    "from index.indexer import Cleaner\n",
    "from query.ranking_models import BooleanRankingModel, VectorRankingModel, IndexPreComputedVals, OPERATOR\n",
    "from query.processing import QueryRunner\n",
    "from index.structure import HashIndex,FileIndex,TermOccurrence\n",
    "\n",
    "# Calculo do IDF\n",
    "# precomp é um obj IndexPreCompVals\n",
    "# --> precomp.index\n",
    "modelo = VectorRankingModel(precomp)\n",
    "\n",
    "list_idfs = []\n",
    "\n",
    "for term in precomp.index.dic_index:\n",
    "    num_docs_with_term = len(precomp.index.get_occurrence_list(term))\n",
    "    idf = modelo.idf(modelo.idx_pre_comp_vals.doc_count, num_docs_with_term)\n",
    "    list_idfs.append((str(term), idf))\n",
    "    \n",
    "# Criando o dicionario\n",
    "crescOrdered = OrderedDict([a for index, a in sorted((posicao[1], posicao) for posicao in list_idfs)])\n",
    "\n",
    "preDescOrdered = sorted([(posicao[1], posicao) for posicao in list_idfs], reverse=True)\n",
    "\n",
    "descOrdered = OrderedDict([posicao[1] for posicao in preDescOrdered])\n",
    "\n",
    "print('10 termos com maiores IDFs')\n",
    "for term in list(crescOrdered.keys())[:10]:\n",
    "    print(f\"Termo = \\\"{term}\\\" IDF = {crescOrdered[term]}\")\n",
    "\n",
    "print('\\n10 termos com menores IDFs')\n",
    "for term in list(descOrdered.keys())[:10]:\n",
    "    print(f\"Termo = \\\"{term}\\\" IDF = {descOrdered[term]}\")"
   ]
  },
  {
   "cell_type": "code",
   "execution_count": 6,
   "metadata": {},
   "outputs": [
    {
     "data": {
      "image/png": "[encoded data removed]",
      "text/plain": [
       "<matplotlib.figure.Figure at 0x7f28a5f7b4e0>"
      ]
     },
     "metadata": {
      "needs_background": "light"
     },
     "output_type": "display_data"
    }
   ],
   "source": [
    "# Gráfico da Precisão\n",
    "import numpy as np \n",
    "import matplotlib.pyplot as plt\n",
    "\n",
    "# creating the dataset \n",
    "valuesIrlanda = [19, 38, 96, 100] \n",
    "valuesBelo = [55, 66, 66, 66] \n",
    "valuesSao = [38, 69, 85, 85] \n",
    "\n",
    "X = np.arange(4)\n",
    "fig = plt.figure(figsize = (10, 5)) \n",
    "\n",
    "# creating the bar plot \n",
    "p1 = plt.bar(X, valuesIrlanda, color = 'b', width = 0.25, edgecolor = 'grey', label = \"teste\") \n",
    "p2 = plt.bar(X + 0.25, valuesSao, color ='g', width = 0.25, edgecolor = 'grey', label = \"teste\") \n",
    "p3 = plt.bar(X+0.50, valuesBelo, color ='r', width = 0.25, edgecolor = 'grey', label = \"teste\") \n",
    "\n",
    "plt.xlabel(\"Número de documentos\") \n",
    "plt.ylabel(\"Precisão (%)\") \n",
    "plt.xticks([r + 0.25 for r in range(len(valuesIrlanda))], \n",
    "           ['5', '10', '25', '50']) \n",
    "plt.title(\"Precisão\") \n",
    "plt.legend((p1[0], p2[0], p3[0]), ('Irlanda', 'São Paulo', 'Belo Horizonte'))\n",
    "plt.show()"
   ]
  },
  {
   "cell_type": "code",
   "execution_count": 7,
   "metadata": {},
   "outputs": [
    {
     "data": {
      "image/png": "[encoded data removed]",
      "text/plain": [
       "<matplotlib.figure.Figure at 0x7f28a5fa30f0>"
      ]
     },
     "metadata": {
      "needs_background": "light"
     },
     "output_type": "display_data"
    }
   ],
   "source": [
    "# Gráfico da Precisão\n",
    "import numpy as np \n",
    "import matplotlib.pyplot as plt\n",
    "\n",
    "# creating the dataset \n",
    "valuesIrlanda = [12.8, 25.6, 64.1, 66.6] \n",
    "valuesBelo = [18.5, 22.2, 22.2, 22.2] \n",
    "valuesSao = [0.82, 1.5, 1.8, 1.8] \n",
    "\n",
    "X = np.arange(4)\n",
    "fig = plt.figure(figsize = (10, 5)) \n",
    "\n",
    "# creating the bar plot \n",
    "p1 = plt.bar(X, valuesIrlanda, color = 'b', width = 0.25, edgecolor = 'grey', label = \"teste\") \n",
    "p2 = plt.bar(X + 0.25, valuesSao, color ='g', width = 0.25, edgecolor = 'grey', label = \"teste\") \n",
    "p3 = plt.bar(X+0.50, valuesBelo, color ='r', width = 0.25, edgecolor = 'grey', label = \"teste\") \n",
    "\n",
    "plt.xlabel(\"Número de documentos\") \n",
    "plt.ylabel(\"Revocação (%)\") \n",
    "plt.xticks([r + 0.25 for r in range(len(valuesIrlanda))], \n",
    "           ['5', '10', '25', '50']) \n",
    "plt.title(\"Revocação\") \n",
    "plt.legend((p1[0], p2[0], p3[0]), ('Irlanda', 'São Paulo', 'Belo Horizonte'))\n",
    "plt.show()"
   ]
  }
 ],
 "metadata": {
  "kernelspec": {
   "display_name": "Python 3",
   "language": "python",
   "name": "python3"
  },
  "language_info": {
   "codemirror_mode": {
    "name": "ipython",
    "version": 3
   },
   "file_extension": ".py",
   "mimetype": "text/x-python",
   "name": "python",
   "nbconvert_exporter": "python",
   "pygments_lexer": "ipython3",
   "version": "3.6.9"
  }
 },
 "nbformat": 4,
 "nbformat_minor": 4
}
