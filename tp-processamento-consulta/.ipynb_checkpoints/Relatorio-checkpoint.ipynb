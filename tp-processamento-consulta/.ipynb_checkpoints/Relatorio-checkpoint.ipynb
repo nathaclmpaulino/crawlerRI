{
 "cells": [
  {
   "cell_type": "markdown",
   "metadata": {},
   "source": [
    "<h1><b>Recuperação da Informação</b></h1>\n",
    "\n",
    "<h3><b>Recuperação de Informação na Web 2020</b></h3>\n",
    "\n",
    "<h3><b>Trabalho Prático Wikipédia - Busca e Avaliação do Resultado</b></h3>\n",
    "<br>\n",
    "Alunos:<ul>Antônio Sousa</ul><ul>Mariana Bulgarelli Alves dos Santos</ul><ul>Nathã Paulino</ul>\n",
    "\n",
    "\n",
    "<h4><b>Processamento de Consulta</b></h4>\n",
    "\n"
   ]
  },
  {
   "cell_type": "markdown",
   "metadata": {},
   "source": [
    "<h4><b>Analise a ocorrência de termos no documento</b></h4>"
   ]
  },
  {
   "cell_type": "markdown",
   "metadata": {},
   "source": [
    "<h5><b> Quais são os 10 termos com maior e menor IDF da coleção? Com base nostermos de menor IDF, será que podiamos propor stopwords novas? Combase nesses termos, existe algo que você poderia melhorar no processamento? </b></h5>\n",
    "<p> </p>"
   ]
  },
  {
   "cell_type": "markdown",
   "metadata": {},
   "source": [
    "Executamos o código para verificar os dez maiores e menores IDFs da coleção. Os cálculos estão em TP2 - Parte 2 - Processamento de Consultas.ipynb. A imagem abaixo mostra os resultados obtidos.\n",
    "\n",
    "<Comandandante Hamilton>\n",
    "\n",
    "Com base nos resultados obtidos concluímos que propor novas stopwords pode acabar removendo palavras que poderiam ser úteis na busca. Termos muito frequentes podem ser sinônimos de stopwords, ao fazer o IDF, que calcula o inverso da frequência do termo no documento - é como você reduzisse termos extremamente frequentes que poderiam ser irrelevantes e aumentaria a frequência de termos que aparecem poucas vezes, porém muito relevantes. Uma forma de melhorar o processamento é aplicar métodos mais eficientes no préprocessamento das palavras."
   ]
  },
  {
   "cell_type": "markdown",
   "metadata": {},
   "source": [
    "<h4><b>Apresente o gráfico de frequência das palavras. Tais palavras devem serordenadas decrescentemente de acordo com a sua frequência. Note que afrequencia da palavra é a frequencia total do termo na coleção (Definido porF(termo) na aula sobre TF-IDF). De forma similar, faça o gráfico do IDF decada palavra (veja o grafico similar na aula sobre TF-IDF). Mostre também,quais que tipos de palavras (específicas? Erros de processamento?) possuemTF alto, mediano e baixo. Faça o mesmo para IDF. </b></h4>\n",
    "<p> </p>"
   ]
  },
  {
   "cell_type": "markdown",
   "metadata": {},
   "source": [
    "<h4><b>Faça algumas consultas exemplos, mostrando o tempo de execução e o número de documentosretornados para cada consulta para cada modelo implementado </b></h4>\n",
    "<p> </p>"
   ]
  },
  {
   "cell_type": "markdown",
   "metadata": {},
   "source": [
    "<h4><b>Apresentação e discussão dos gráficos de avaliação (precisão e revocação @5, @10, @25, @50revocação @5, @10, @25, @50) do modelo vetorial. Para plotar os graficos, você pode usar as bibliotecas seaborn ou matplotlib.</b></h4>\n",
    "<p> </p>"
   ]
  },
  {
   "cell_type": "markdown",
   "metadata": {},
   "source": [
    "Precisão é a fração de documentos recuperados que são relevantes para a busca, já a revocação é a quantidade de documentos relevantes que foram recuperados para a busca. A seguir, foi feito os gráficos relativos do modelo vetorial para a palavra g1 presente no index."
   ]
  },
  {
   "cell_type": "markdown",
   "metadata": {},
   "source": [
    "<h3><b>Instruções para rodar a interface</b></h3>"
   ]
  },
  {
   "cell_type": "markdown",
   "metadata": {},
   "source": [
    "O projeto de interface para rodar o processamento de consulta foi separado em duas partes, a parte do frontend e a parte do backend. No frontend, utilizou-se React e todo o código está disponível no subdiretório buscador (https://github.com/nathaclmpaulino/crawlerRI/tree/main/buscador). \n",
    "\n",
    "Para rodar, é necessário os seguintes passos:\n",
    "- Ter o node instalado na máquina;\n",
    "- Ir até o diretório buscador dentro do repositório;\n",
    "- Instalar as dependências, usando 'npm install' ou, caso prefira e possua o yarn, basta executar o 'yarn';\n",
    "- Rodar o projeto usando 'npm run start' ou 'yarn start';\n",
    "- Pronto, uma aba irá abrir, em alguma porta 300n, e já poderá utilizar;\n",
    "\n",
    "Quanto a parte do backend, ela foi feita no próprio Dojo, da parte 2, sendo necessário apenas rodar o escript disponível após a questão 10, que irá configurar e subir uma API REST, que possui uma rota de get que irá possibilitar a comunicação entre o front e o back. É extremamente importante que a porta 5000 do localhost esteja disponível, pois a configuração está como default nessa porta.\n",
    "\n",
    "Caso não tenham instalados os pacotes abaixo, será necessário para o devido funcionamento:\n",
    "- pip install flask flask-jsonpify flask-restful\n",
    "- pip install -U flask-cors"
   ]
  }
 ],
 "metadata": {
  "kernelspec": {
   "display_name": "Python 3",
   "language": "python",
   "name": "python3"
  },
  "language_info": {
   "codemirror_mode": {
    "name": "ipython",
    "version": 3
   },
   "file_extension": ".py",
   "mimetype": "text/x-python",
   "name": "python",
   "nbconvert_exporter": "python",
   "pygments_lexer": "ipython3",
   "version": "3.8.5"
  }
 },
 "nbformat": 4,
 "nbformat_minor": 4
}
