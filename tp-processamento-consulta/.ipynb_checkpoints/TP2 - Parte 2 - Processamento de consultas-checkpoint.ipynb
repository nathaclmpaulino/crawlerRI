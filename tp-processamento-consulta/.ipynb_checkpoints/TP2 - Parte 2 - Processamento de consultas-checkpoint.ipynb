{
 "cells": [
  {
   "cell_type": "markdown",
   "metadata": {},
   "source": [
    "Este projeto você irá implementar o processamento de consultas. Nela, você utilizará o índice para retornar uma coleção ordenada e avaliação de algumas consultas selecionadas. Para isso, vocês deverão implementar alguns métodos das seguintes classes.\n",
    "\n",
    "- `IndexPreComputedVals`: Em alguns modelos, há a necessidade de processar alguns valores para que, no momento da execução da consulta, seja retornado de forma mais rápida. Esta classe analisa o índice e armazena informações necessárias para o calculo de cada tipo de modelagem;\n",
    "- `RankingModel`: Classe abstrata para a criação dos modelos. Ele possui o método `get_ordered_docs` a ser implementado por suas subclasses;\n",
    "- `BooleanRankingModel` Classe que retorna um resultado de consulta por meio do [modelo booleano](https://docs.google.com/presentation/d/1V62ll_IXRrsp6TYUHjx_T4jIyIc1ZVJYoOSwsxObybE/edit?usp=sharing)\n",
    "- `VectorRankingModel`: Classe que retorna um resultado de consulta por meio do [modelo vetorial](https://docs.google.com/presentation/d/1jsD1MpLIl08OnWysDhjp7glc4_K0sH9sKUhRqI8lLLo/edit?usp=sharing)\n",
    "- `QueryRunner`: Classe principal encarregada de obter a consulta e retornar os resultados;\n",
    "\n",
    "\n",
    "Este trabalho depende do código do indice (pacote `index`). Assim, você deve adicioná-o apropriadamente para dar continuidade ao projeto. \n"
   ]
  },
  {
   "cell_type": "markdown",
   "metadata": {},
   "source": [
    "## Modelagem Booleana e Vetorial"
   ]
  },
  {
   "cell_type": "markdown",
   "metadata": {},
   "source": [
    "** Atividade 1 - Modelagem Booleana**: A abordagem booleana neste trabalho é simplificada. O modelo recebe possui o atributo `operator` que é uma instancia do [Enum](https://docs.python.org/3.4/library/enum.html) Operator. Caso o operador seja AND, será feito a operacao de interseção entre todos os documentos contidos ocorrencias de palavras, caso contrario, sendo OR, será feito a união. Exemplo: "
   ]
  },
  {
   "cell_type": "code",
   "execution_count": null,
   "metadata": {},
   "outputs": [],
   "source": [
    "from index.structure import TermOccurrence\n",
    "map_ocorrencias = {\"saturno\":[TermOccurrence(1,1,1),\n",
    "                            TermOccurrence(3,1,1)],\n",
    "                     \"plutao\":[TermOccurrence(2,5,1),\n",
    "                               TermOccurrence(4,5,1)],\n",
    "                        \"terra\":[TermOccurrence(1,2,1),\n",
    "                            TermOccurrence(2,2,1),\n",
    "                            TermOccurrence(4,2,1),],\n",
    "                        \"venus\":[TermOccurrence(1,3,1),\n",
    "                                TermOccurrence(2,3,1),\n",
    "                                TermOccurrence(3,3,1),\n",
    "                                TermOccurrence(4,3,1)],\n",
    "                        \"marte\":[TermOccurrence(1,4,2),\n",
    "                            TermOccurrence(3,4,1),\n",
    "                            TermOccurrence(4,4,1),],\n",
    "\n",
    "                        \"mercurio\":[TermOccurrence(3,6,1)]          \n",
    "    }"
   ]
  },
  {
   "cell_type": "markdown",
   "metadata": {},
   "source": [
    "A intereseção entre `saturno` e `venus` resultará nos documentos 1 e 3 e, a união, nos documentos 1, 2, 3 e 4."
   ]
  },
  {
   "cell_type": "markdown",
   "metadata": {},
   "source": [
    "Esta é uma forma bem simplificada para implementarmos o modelo booleano. Para isso, você deverá implementar os métodos `union_all` e `intersection_all` presentes na classe `BooleanRankingModel` no arquivo `ranking_models.py`. Esses métodos recebem como parâmetro um mapa com a lista de correncias de cada termo (similar a exemplificada acima)."
   ]
  },
  {
   "cell_type": "code",
   "execution_count": null,
   "metadata": {},
   "outputs": [],
   "source": [
    "!python3 -m query.tests.ranking_models RankingModelTest.test_boolean_model"
   ]
  },
  {
   "cell_type": "markdown",
   "metadata": {},
   "source": [
    "**Atividade 2 - TF-IDF: ** Agora, no mesmo arquivo, iremos finalizar a implementação do modelo Vetorial utilizando a classe `VectorRankingModel`. Nesta classe, primeiramente, você deverá implementar os [métodos estáticos](https://daniel-hasan.github.io/cefet-web-grad/classes/python2/) `tf`, `idf` e `tf_idf`. Sendo que $TF = 1+log_2(f_{ij})$ e $IDF_i = log_2(\\frac{N}{n_i})$ em que $f_{ij}$ é a frequência do termo $i$ no documento $j$, $N$ é o número de documentos e $n_i$ é o número de documentos que ocorrem o termo $i$. Abaixo, faça testes destes métodos: "
   ]
  },
  {
   "cell_type": "code",
   "execution_count": null,
   "metadata": {},
   "outputs": [],
   "source": [
    "from query.ranking_models import *\n",
    "from index.structure import *\n",
    "\n",
    "index = FileIndex()\n",
    "precomp = IndexPreComputedVals(index)\n",
    "vectorRank = VectorRankingModel(precomp)\n",
    "\n",
    "doc_count=4\n",
    "freq_term=1\n",
    "num_docs_with_term=3\n",
    "\n",
    "tf_esperado = 1\n",
    "idf_esperado = 0.415\n",
    "tf_idf_esperado = 0.415\n",
    "\n",
    "tf_calc = vectorRank.tf(freq_term)\n",
    "idf_calc = vectorRank.idf(doc_count,num_docs_with_term)\n",
    "\n",
    "if tf_esperado == tf_calc:\n",
    "    print('OK')\n",
    "else:\n",
    "    print(f'Resultado inesperado para TF: {tf_calc}. Esperava-se: {tf_esperado}')\n",
    "    \n",
    "\n",
    "if idf_esperado == idf_calc:\n",
    "    print('OK')\n",
    "else:\n",
    "    print(f'Resultado inesperado para IDF: {idf_calc}. Esperava-se: {idf_esperado}')\n",
    "\n",
    "tf_idf_calc = vectorRank.tf_idf(doc_count, freq_term, num_docs_with_term)\n",
    "if tf_idf_esperado == tf_idf_calc:\n",
    "    print('OK')\n",
    "else:\n",
    "    print(f'Resultado inesperado para TF_IDF: {tf_idf_calc}. Esperava-se: {tf_idf_esperado}') \n"
   ]
  },
  {
   "cell_type": "markdown",
   "metadata": {},
   "source": [
    "**Atividade 3 - PreComputedVals: ** No modelo vetorial temos que calcular a norma de cada documento $d_j$. Esse calculo não pode ser feito durante o preprocessamento da consulta. Assim, na classe `IndexPreComputedVals` possui o atributo `document_norm` que é um dicionário que mapeia cada documnto $j$ à sua norma. Esse calculo é feito apenas uma vez ao iniciar o programa. \n",
    "\n",
    "Desta forma, você deverá terminar de implementar o método `precompute_vals` que percorre todo o índice e armazena a norma de cada documento."
   ]
  },
  {
   "cell_type": "code",
   "execution_count": null,
   "metadata": {},
   "outputs": [],
   "source": [
    "!python3 -m query.tests.ranking_models RankingModelTest.test_precomputed_vals"
   ]
  },
  {
   "cell_type": "markdown",
   "metadata": {},
   "source": [
    "**Atividade 4 - Método `get_ordered_docs` da classe `VectorRankingModel`: ** Usando os métodos implementados anteriormente você deverá ordenar os documentos contidos no mapa de ocorrencias `docs_occur_per_term` de acordo com a consulta `query` utilizando o modelo vetorial. O parametro `query` mapeia um termo presente na consulta, para a sua ocorrencia (objeto da classe `TermOcurrence`. Para cada termo $t$ que ocorre na consulta, `docs_occur_per_term` mapeia cada termo com a lista de ocorrencias dele no índice. Veja abaixo um exemplo destes parametros usando a consulta `to be or not to be`.  Veja que, na consulta, `doc_id = None`."
   ]
  },
  {
   "cell_type": "code",
   "execution_count": null,
   "metadata": {},
   "outputs": [],
   "source": [
    "from index.structure import *\n",
    "query = {\"to\":TermOccurrence(None, 1, 2),\n",
    "         \"be\":TermOccurrence(None, 2, 2),\n",
    "          \"or\":TermOccurrence(None, 3, 1),\n",
    "          \"not\":TermOccurrence(None, 4, 1),}\n",
    "docs_occur_per_term = {\n",
    "                                    \"to\":[TermOccurrence(1, 1, 4),\n",
    "                                          TermOccurrence(2, 1, 1),],\n",
    "                                      \"be\":[TermOccurrence(1, 2, 1),TermOccurrence(2, 2, 1)],\n",
    "                                     \"or\":[TermOccurrence(2, 3, 1)],\n",
    "                                    \"not\":[TermOccurrence(3, 4, 1)],\n",
    "                                }"
   ]
  },
  {
   "cell_type": "markdown",
   "metadata": {},
   "source": [
    "Esse método retorna dois valores: (a) uma lista de ids de documentos ordenada de acordo com o modelo vetorial - use o método e um dicionário que mapeia, para cada documento, o seu peso. O método `rank_document_ids` será útil. "
   ]
  },
  {
   "cell_type": "code",
   "execution_count": null,
   "metadata": {},
   "outputs": [],
   "source": [
    "!python3 -m query.tests.ranking_models RankingModelTest.test_vector_model"
   ]
  },
  {
   "cell_type": "markdown",
   "metadata": {},
   "source": [
    "## Processamento da Consulta e Avaliação"
   ]
  },
  {
   "cell_type": "markdown",
   "metadata": {},
   "source": [
    "Agora você irá fazer o processamento da consulta, informada pelo usuário, além de sua avaliação. A implementação do processamento de consultas será feito na classe `QueryRunner` do arquivo `processing.py`.\n",
    "\n",
    "**Requisito antes de começar:** o código que foi feito da indexação deve estar funcionando. Será utilizado a base de dados da Wikipédia. Você não deverá fazer a indexação toda quando iniciar o programa, ao invés disso, você deve persistir o indice todo em arquivo após a indexação. Usando FileIndex, como as ocorrencias já estão armazenadas em arquivo, você precisa armazenar apenas o conteúdo do `dic_index`. A [biblioteca json](https://docs.python.org/3/library/json.html) pode ajudar. Este índice será lido do arquivo apenas uma vez no início da execução do programa."
   ]
  },
  {
   "cell_type": "markdown",
   "metadata": {},
   "source": [
    "**Criação da coleção de referência: ** Para o projeto realizaremos uma avaliação bem simples, com o único intuito de simularmos um processo real de avaliação. Para tanto, consideraremos como conjunto de consultas de teste apenas três consultas:\n",
    "'Irlanda'\n",
    "'Belo Horizonte' e \n",
    "'São Paulo'\n",
    "\n",
    "O conjunto de documentos de teste compreenderá todas as páginas da base de dados da Wikipédia PT-BR utilizadas no projeto.  Para cada consulta, disponibilizamos um arquivo (na pasta `relevant_docs`) com o id de documentos relevantes (separados por vírgula) para as consultas teste.\n",
    "\n",
    "Por exemplo, um documento $D$ será considerado relevante para a consulta 'Belo Horizonte' somente \n",
    "se o id de $D$ estiver no arquivo `belo_horizonte.dat`. Você irá armazenar o conteúdo desses arquivos em memória para diminuir o tempo de busca. Feito isso, a coleção de referência para as três consultas estará montada e pode-se realizar os cálculos de avaliação corretamente.\n",
    "\n",
    "**Como um artigo foi considerado relevante para uma determinada consulta?** A Wikipedia organiza seus artigos em diversas categorias. Assim, para considerarmos se um artigo da Wikipédia é relevante, utilizamos essas categorias. Assim, para os documentos relevantes para a consulta 'Irlanda' (Arquivo `irlanda.dat`), foram considerados relevantes artigos da seguintes categorias: \n",
    " \n",
    "- Irlanda\n",
    "- Economia da Irlanda\n",
    "- História da Irlanda\n",
    "- Cultura da Irlanda\n",
    "- Romancistas da Irlanda\n",
    "- Físicos da Irlanda\n",
    "- Reis da Irlanda\n",
    "- Lordes da Irlanda\n",
    "\n",
    "Categorias relevantes para a consulta 'Belo Horizonte' (Arquivo `belo_horizonte.dat`): \n",
    "\n",
    "- Bairros de Belo Horizonte\n",
    "- Bandas de Belo Horizonte\n",
    "- Belo Horizonte\n",
    "- Edifícios de Belo Horizonte\n",
    "- Metrô de Belo Horizonte\n",
    "- Naturais de Belo Horizonte\n",
    "- Prefeitos de Belo Horizonte\n",
    "- Vereadores de Belo Horizonte\n",
    "\n",
    "Categorias relevantes para a consulta 'São Paulo' (arquivo `sao_paulo.dat`):\n",
    "\n",
    "- Atrações turísticas da cidade de São Paulo\n",
    "- Áreas protegidas de São Paulo\n",
    "- Prefeitos de São Paulo\n",
    "- São Paulo\n",
    "- Turismo em São Paulo\n",
    "- Universidades de São Paulo\n",
    "- Rodovias de São Paulo\n",
    "- Museus da cidade de São Paulo\n",
    "- Governadores de São Paulo\n",
    "- Municípios de São Paulo"
   ]
  },
  {
   "cell_type": "markdown",
   "metadata": {},
   "source": [
    "**Atividade 5 - Leitura dos arquivos de relevâncias: ** Você deverá implementar o método `get_relevance_per_query` que irá ler todos os arquivo da pasta `relevant_docs` e, com isso, retornar um mapeamento em que a chave é a string de consulta e o valor é o **conjunto** de ids de documentos. Veja um exemplo de retorno com as consultas `Bolívia`, `Brasil` e `Porto Seguro`: \n"
   ]
  },
  {
   "cell_type": "code",
   "execution_count": null,
   "metadata": {},
   "outputs": [],
   "source": [
    "retorno = {\"Bolívia\":{1,3,5,6,233},\n",
    "            \"Brasil\":{2,4,5,3},\n",
    "           \"Porto Seguro\":{3,43,21,3,12,233}\n",
    "          }"
   ]
  },
  {
   "cell_type": "markdown",
   "metadata": {},
   "source": [
    "Faça um teste de execução abaixo: "
   ]
  },
  {
   "cell_type": "code",
   "execution_count": null,
   "metadata": {},
   "outputs": [],
   "source": []
  },
  {
   "cell_type": "markdown",
   "metadata": {},
   "source": [
    "**Atividade 6 - count_top_n_relevant: ** Um método que auxilirará vocês na avaliação é o método count_top_n_relevant da classe Query Runner.  Esse método calcula a quantidade de documentos relevantes nas top `n` posições da lista `lstResposta` que é a resposta a uma consulta - lista de ids de documentos. `lstResposta` será a lista de respostas ordenadas por um método de processamento de consulta (BM25, Modelo vetorial). Os ids de documentos relevantes estão no parametro `docRelevantes`."
   ]
  },
  {
   "cell_type": "code",
   "execution_count": null,
   "metadata": {},
   "outputs": [],
   "source": [
    "!python3 -m query.tests.processing ProcessingTest.test_count_top_n_relevant"
   ]
  },
  {
   "cell_type": "markdown",
   "metadata": {},
   "source": [
    "**Atividade 7 - processamento da consulta**: O método `get_query_term_occurence` a consulta da mesma forma que foi preprocessado o texto do documento (use a classe `Cleaner` para isso). Este método irá retonar a consulta em um dicionario em que chave é o termo que ocorreu e o valor é uma instancia da classe TermOccurrence (ver Atividade 4). O doc_id deverá ser sempre None. Caso o termo nao exista no indice, ele será desconsiderado."
   ]
  },
  {
   "cell_type": "code",
   "execution_count": null,
   "metadata": {},
   "outputs": [],
   "source": [
    "!python3 -m query.tests.processing ProcessingTest.test_get_query_term_occurence"
   ]
  },
  {
   "cell_type": "markdown",
   "metadata": {},
   "source": [
    "**Atividade 8 - Recuperação dos termos da consulta no índice: ** O método `get_occurrence_list_per_term` possui com parametro a lista de termos da consulta. Este método retorna um dicionario com a lista de ocorrencia no indice de cada termo passado como parametro. Caso o termo não exista, este termo possuirá uma lista vazia. Veja o exemplo na atividade 4."
   ]
  },
  {
   "cell_type": "code",
   "execution_count": null,
   "metadata": {},
   "outputs": [],
   "source": [
    "!python3 -m query.tests.processing ProcessingTest.test_get_occurence_list_per_term"
   ]
  },
  {
   "cell_type": "markdown",
   "metadata": {},
   "source": [
    "**Atividade 9 - processamento da consulta: ** Este método recebe como parametro a consulta, os valores precomputado do índice e o dicionário de documentos relevantes (extraídos do método `get_relevance_per_query`) para retornar uma lista de IDs ordenados de acordo com a consulta utilizando o modelo de ranking e indice que são os atributos `index` e "
   ]
  },
  {
   "cell_type": "code",
   "execution_count": null,
   "metadata": {},
   "outputs": [],
   "source": [
    "!python3 -m query.tests.processing ProcessingTest.test_get_docs_term"
   ]
  },
  {
   "cell_type": "markdown",
   "metadata": {},
   "source": [
    "**Atividade 10: Método estático runQuery e criação da interface de caracteres - ou uso da interface gráfica/web: ** Você deverá fazer um método que utilizando o indice, valores precomputados e o dicionario de indices relevantes:\n",
    "            \n",
    "- Instanciar um objeto de uma subclasse de RankingModel, de acordo com o que foi solicitado pelo usuário\n",
    "- Preprocessar os termos da consulta\n",
    "- Obter no indice as ocorrencias de cada termo do indice\n",
    "- Utilize o método get_docs_term para obter a lista de documentos que responde esta consulta\n",
    "- Caso seja uma consulta que possua documentos relevantes assinalados, fazer a avaliação da precisão e revocação dos top 10, 20 e 50\n",
    "- Imprimir as top 10 respostas. \n",
    "            \n",
    "Você deverá criar uma interface de carcteres para solicitar ao usuario a consulta e a modelagem a ser usada. Caso opte por uma interface de caracteres,faça também uma função main em processing e, abaixo, execute-a para mostrar como exemplo. Caso deseje, ao inves disso, você pode também fazer uma interface gráfica. Para testar este método, você deverá usar o indice da Wikipedia. Além disso, você deverá fazer uma análise e acordo com o guia de escrita do relatório sobre as as consultas da coleção de referencia. Para melhorar a apresentação, o arquivo `titlePerDoc.dat` apresenta o título do artigo por id do mesmo. O arquivo `itens obrigatorios - reltorio processamento de consulta.pdf` demonstra os itens obrigatórios do relatório.\n",
    "\n",
    "Você tem a liberdade de alterar este método como bem entender, mas lembre-se que os valores precomputados devem ser executado uma vez só durante a execução do programa antes da solicitação das consultas para que a consulta não fique lenta. Além disso, você deve ler o arquivo do índice também apenas uma vez (não indexe a Wikipedia novamente e sim leia o arquivo do indice gravado em memória). Caso deseje, você pode modificar o IndexPreComputedVals para armazenar mais elementos precomputados que facilitariam a consulta (ou a exibição da mesma). \n",
    "\n",
    " Caso opte por fazer uma interface web, deve estar claro as instruções para que seja possível executa-la, inclusive, as suas dependencias. Para melhoria de organização, a parte de interface grafica ou web deve ser feita em outros arquivos."
   ]
  },
  {
   "cell_type": "markdown",
   "metadata": {},
   "source": [
    "Para rodar a api, necessário instalar alguns pacotes:\n",
    "- pip install flask flask-jsonpify flask-restful\n",
    "- pip install -U flask-cors"
   ]
  },
  {
   "cell_type": "code",
   "execution_count": null,
   "metadata": {},
   "outputs": [
    {
     "name": "stdout",
     "output_type": "stream",
     "text": [
      " * Serving Flask app \"__main__\" (lazy loading)\n",
      " * Environment: production\n",
      "   WARNING: This is a development server. Do not use it in a production deployment.\n",
      "   Use a production WSGI server instead.\n",
      " * Debug mode: off\n"
     ]
    },
    {
     "name": "stderr",
     "output_type": "stream",
     "text": [
      " * Running on http://127.0.0.1:5000/ (Press CTRL+C to quit)\n",
      "[2020-12-05 09:31:45,950] ERROR in app: Exception on /buscador [GET]\n",
      "Traceback (most recent call last):\n",
      "  File \"/usr/lib/python3/dist-packages/flask/app.py\", line 1949, in full_dispatch_request\n",
      "    rv = self.dispatch_request()\n",
      "  File \"/usr/lib/python3/dist-packages/flask/app.py\", line 1935, in dispatch_request\n",
      "    return self.view_functions[rule.endpoint](**req.view_args)\n",
      "  File \"/home/natha/.local/lib/python3.8/site-packages/flask_restful/__init__.py\", line 468, in wrapper\n",
      "    resp = resource(*args, **kwargs)\n",
      "  File \"/usr/lib/python3/dist-packages/flask/views.py\", line 89, in view\n",
      "    return self.dispatch_request(*args, **kwargs)\n",
      "  File \"/home/natha/.local/lib/python3.8/site-packages/flask_restful/__init__.py\", line 583, in dispatch_request\n",
      "    resp = meth(*args, **kwargs)\n",
      "  File \"<ipython-input-1-488a108d2d17>\", line 54, in get\n",
      "    QueryRunner.runQuery(query, index, precomp, relevantes, modelo)\n",
      "  File \"/home/natha/CEFET/RI/crawlerRI/tp-processamento-consulta/query/processing.py\", line 157, in runQuery\n",
      "    precisao = qr.count_topn_relevant(n, respostas[0], map_relevantes[query]) / len(respostas[0])\n",
      "ZeroDivisionError: division by zero\n",
      "127.0.0.1 - - [05/Dec/2020 09:31:45] \"GET /buscador?query=sao_paulo&type=vetorial&operation=and HTTP/1.1\" 500 -\n"
     ]
    },
    {
     "name": "stdout",
     "output_type": "stream",
     "text": [
      "sao_paulo vetorial and\n",
      "ola mundou deu bom\n",
      "1\n",
      "2\n",
      "3\n",
      "Query sao_paulo\n",
      "Dic_query_occur\n",
      "{'sao_paulo': (term_id:1 doc: None freq: 1)}\n",
      "Query dividida\n",
      "['sao_paulo']\n",
      "Dic_query_per_term_query\n",
      "{'sao_paulo': [(term_id:1 doc: 359 freq: 5), (term_id:1 doc: 16865 freq: 2), (term_id:1 doc: 35020 freq: 1)]}\n",
      "{'sao_paulo': (term_id:1 doc: None freq: 1)}\n",
      "{'sao_paulo': [(term_id:1 doc: 359 freq: 5), (term_id:1 doc: 16865 freq: 2), (term_id:1 doc: 35020 freq: 1)]}\n",
      "Documents_weight\n",
      "{}\n",
      "Doc IDs\n",
      "[]\n",
      "Respostas cheio\n",
      "([], {})\n",
      "[]\n",
      "Passei aqui\n",
      "{'belo_horizonte': {'69168', '29241', '1083', '49772', '110030', '125549', '18111', '107302', '136473', '49186', '38636', '484', '19588', '91853', '106575', '43658', '108604', '130173', '91593', '97000', '47967', '40226', '104137', '136473\\n', '80198', '35985', '101043'}, 'irlanda': {'43872', '52998', '105348', '1393', '51786', '39049', '46441', '7765', '51714', '39300', '13256', '53004', '1034', '58189', '47185', '3765', '9955', '15393', '33833', '124818\\n', '83228', '51778', '9918', '93223', '45577', '37632', '95773', '52995', '11953', '51779', '111966', '102888', '1196', '105145', '54836', '44259', '51716', '26276', '37935'}, 'sao_paulo': {'37087', '31886', '41906', '35155', '35238', '37265', '34779', '35041', '58490', '34873', '18489', '116543', '132004', '32353', '43939', '35174', '35048', '35066', '47240', '17661', '37054', '34884', '34879', '56310', '34893', '35222', '121025', '13726', '35038', '114888', '35101', '67301', '35100', '41948', '34813', '32573', '128906', '33739', '44033', '34981', '30653', '18411', '34941', '35170', '34937', '111222', '35235', '23412', '34849', '34987', '126579', '35161', '29460', '23983', '33267', '37252', '41958', '120284', '35086', '35110', '34627', '34983', '35069', '96952', '34822', '35160', '123768', '34770', '34841', '35875', '35186', '34908', '35217', '132760', '35229', '24088', '31202', '9277', '34787', '34939', '31880', '64908', '34918', '66592', '15837', '18515', '1084', '820', '26173', '131865', '10558', '47510', '30667', '120283', '115341', '12381', '41942', '34970', '54087', '96931', '35024', '35207', '34777', '117951', '34874', '44027', '34923', '34903', '78269', '105372', '107278', '35102', '127538', '35074', '34863', '35000', '41971', '34965', '32738', '37241', '34931', '35150', '46533', '37258', '35022', '104847', '37247', '35171', '61190', '107604', '35004', '34935', '37600', '34962', '91915', '60431', '16722', '31889', '34971', '35240', '30641', '125876', '121580', '94770', '34798', '35117', '35188', '37240', '130537', '37261', '114625', '34900', '115646', '35132', '1291', '63586', '34967', '77762', '34896', '23439', '34837', '34928', '123706', '35076', '35047', '35144', '34847', '110916', '65568', '34978', '44596', '11478', '17703', '35210', '34906', '34950', '34872', '34990', '31888', '132679', '30669', '34840', '35036', '35223', '35130', '34901', '35012', '34844', '35052', '35204', '78432', '34958', '34784', '49745', '35233', '54428', '21467', '63584', '34888', '35157', '34825', '34836', '11664', '29427', '34824', '35177', '35135', '130359', '35031', '99800', '34855', '37249', '55965', '34991', '35194', '103003', '31879', '34809', '120839', '35134', '42765', '116539', '30119', '34699', '35035', '41955', '47221', '127303', '34945', '35122', '135137\\n', '18307', '18305', '118365', '1752', '107841', '30016', '34878', '34952', '29477', '34831', '35113', '35058', '105369', '41761', '62759', '359', '35226', '35143', '35158', '40127', '34912', '103736', '35131', '35202', '34861', '35213', '9744', '35043', '34871', '34890', '34891', '35184', '35206', '35195', '35001', '37297', '60430', '83535', '22647', '37244', '60377', '25107', '110315', '34830', '18285', '35153', '34885', '35056', '45239', '36238', '35123', '34930', '34791', '29476', '23420', '98274', '41945', '31890', '24546', '17422', '103495', '34897', '24007', '34851', '35063', '34959', '23505', '12218', '21504', '26805', '117843', '18769', '35183', '53155', '41967', '36655', '35163', '12383', '34985', '34902', '34955', '35216', '34794', '34807', '23413', '108677', '34880', '64326', '34953', '42255', '124892', '35126', '37056', '34969', '44043', '71920', '37283', '37243', '35225', '35030', '23990', '34808', '34821', '35138', '41944', '54205', '35112', '8170', '36511', '35077', '35181', '106867', '57810', '130272', '18364', '35054', '37053', '63617', '22159', '110028', '53269', '59093', '34785', '35230', '121946', '112599', '34882', '124032', '129465', '34776', '61403', '35034', '35070', '17768', '7847', '35241', '120924', '9928', '49752', '34986', '35173', '52391', '23988', '18143', '24089', '34932', '35198', '38535', '34915', '35197', '67061', '33530', '34919', '35027', '41964', '35221', '72497', '58426', '103262', '35007', '34778', '34895', '64679', '34606', '35205', '35162', '34829', '30652', '114091', '35214', '35114', '34968', '35095', '72332', '7687', '34979', '18312', '35108', '35087', '63775', '34936', '111495', '34998', '74190', '35006', '34843', '113733', '110131', '63613', '27860', '34862', '35064', '34911', '42582', '124692', '35165', '37085', '34653', '34933', '41961', '34892', '35083', '23402', '27897', '34819', '96945', '63776', '34886', '10756', '120719', '50702', '34995', '35046', '95286', '34921', '34934', '23441', '70457', '18299', '35119', '34613', '104490', '108256', '56690', '34982', '63593', '44001', '35175', '3546', '63715', '15814', '34820', '35061', '128635', '67965', '62828', '35164', '10792', '53833', '1324', '34894', '37282', '34806', '63123', '35111', '128145', '35156', '76506', '30640', '35125', '63637', '70209', '35109', '84257', '35189', '101163', '35139', '35141', '64678', '35089', '35167', '35196', '52388', '35212', '35182', '34975', '16865', '117875', '125623', '34972', '35028', '35020', '35215', '44836', '30649', '34845', '34865', '68791', '67967', '35067', '37255', '35124', '105368', '19963', '35040', '35140', '35039', '67685', '35166', '34814', '35026', '34832', '35049', '35011', '35239', '35115', '34858', '9258', '35218', '58105', '35231', '34999', '35079', '30654', '34974', '34943', '71322', '35227', '34898', '34940', '37242', '37274', '35029', '35193', '35099', '34786', '35055', '34852', '35032', '100337', '33850', '34800', '62764', '63702', '30658', '63827', '35168', '34963', '34876', '35201', '34857', '34850', '45081', '35148', '35098', '37256', '34926', '96944', '34803', '35092', '34773', '35093', '35224', '35002', '35149', '50674', '71562', '123161', '33643', '34812', '34984', '35073', '29459', '125486', '113999', '124267', '727', '34868', '34869', '35145', '71254', '52221', '1719', '18482', '35021', '35023', '34815', '35059', '34914', '31882', '35151', '34992', '34907', '30402'}}\n",
      "dict_keys(['belo_horizonte', 'irlanda', 'sao_paulo'])\n",
      "entrou aqui\n",
      "{'37087', '31886', '41906', '35155', '35238', '37265', '34779', '35041', '58490', '34873', '18489', '116543', '132004', '32353', '43939', '35174', '35048', '35066', '47240', '17661', '37054', '34884', '34879', '56310', '34893', '35222', '121025', '13726', '35038', '114888', '35101', '67301', '35100', '41948', '34813', '32573', '128906', '33739', '44033', '34981', '30653', '18411', '34941', '35170', '34937', '111222', '35235', '23412', '34849', '34987', '126579', '35161', '29460', '23983', '33267', '37252', '41958', '120284', '35086', '35110', '34627', '34983', '35069', '96952', '34822', '35160', '123768', '34770', '34841', '35875', '35186', '34908', '35217', '132760', '35229', '24088', '31202', '9277', '34787', '34939', '31880', '64908', '34918', '66592', '15837', '18515', '1084', '820', '26173', '131865', '10558', '47510', '30667', '120283', '115341', '12381', '41942', '34970', '54087', '96931', '35024', '35207', '34777', '117951', '34874', '44027', '34923', '34903', '78269', '105372', '107278', '35102', '127538', '35074', '34863', '35000', '41971', '34965', '32738', '37241', '34931', '35150', '46533', '37258', '35022', '104847', '37247', '35171', '61190', '107604', '35004', '34935', '37600', '34962', '91915', '60431', '16722', '31889', '34971', '35240', '30641', '125876', '121580', '94770', '34798', '35117', '35188', '37240', '130537', '37261', '114625', '34900', '115646', '35132', '1291', '63586', '34967', '77762', '34896', '23439', '34837', '34928', '123706', '35076', '35047', '35144', '34847', '110916', '65568', '34978', '44596', '11478', '17703', '35210', '34906', '34950', '34872', '34990', '31888', '132679', '30669', '34840', '35036', '35223', '35130', '34901', '35012', '34844', '35052', '35204', '78432', '34958', '34784', '49745', '35233', '54428', '21467', '63584', '34888', '35157', '34825', '34836', '11664', '29427', '34824', '35177', '35135', '130359', '35031', '99800', '34855', '37249', '55965', '34991', '35194', '103003', '31879', '34809', '120839', '35134', '42765', '116539', '30119', '34699', '35035', '41955', '47221', '127303', '34945', '35122', '135137\\n', '18307', '18305', '118365', '1752', '107841', '30016', '34878', '34952', '29477', '34831', '35113', '35058', '105369', '41761', '62759', '359', '35226', '35143', '35158', '40127', '34912', '103736', '35131', '35202', '34861', '35213', '9744', '35043', '34871', '34890', '34891', '35184', '35206', '35195', '35001', '37297', '60430', '83535', '22647', '37244', '60377', '25107', '110315', '34830', '18285', '35153', '34885', '35056', '45239', '36238', '35123', '34930', '34791', '29476', '23420', '98274', '41945', '31890', '24546', '17422', '103495', '34897', '24007', '34851', '35063', '34959', '23505', '12218', '21504', '26805', '117843', '18769', '35183', '53155', '41967', '36655', '35163', '12383', '34985', '34902', '34955', '35216', '34794', '34807', '23413', '108677', '34880', '64326', '34953', '42255', '124892', '35126', '37056', '34969', '44043', '71920', '37283', '37243', '35225', '35030', '23990', '34808', '34821', '35138', '41944', '54205', '35112', '8170', '36511', '35077', '35181', '106867', '57810', '130272', '18364', '35054', '37053', '63617', '22159', '110028', '53269', '59093', '34785', '35230', '121946', '112599', '34882', '124032', '129465', '34776', '61403', '35034', '35070', '17768', '7847', '35241', '120924', '9928', '49752', '34986', '35173', '52391', '23988', '18143', '24089', '34932', '35198', '38535', '34915', '35197', '67061', '33530', '34919', '35027', '41964', '35221', '72497', '58426', '103262', '35007', '34778', '34895', '64679', '34606', '35205', '35162', '34829', '30652', '114091', '35214', '35114', '34968', '35095', '72332', '7687', '34979', '18312', '35108', '35087', '63775', '34936', '111495', '34998', '74190', '35006', '34843', '113733', '110131', '63613', '27860', '34862', '35064', '34911', '42582', '124692', '35165', '37085', '34653', '34933', '41961', '34892', '35083', '23402', '27897', '34819', '96945', '63776', '34886', '10756', '120719', '50702', '34995', '35046', '95286', '34921', '34934', '23441', '70457', '18299', '35119', '34613', '104490', '108256', '56690', '34982', '63593', '44001', '35175', '3546', '63715', '15814', '34820', '35061', '128635', '67965', '62828', '35164', '10792', '53833', '1324', '34894', '37282', '34806', '63123', '35111', '128145', '35156', '76506', '30640', '35125', '63637', '70209', '35109', '84257', '35189', '101163', '35139', '35141', '64678', '35089', '35167', '35196', '52388', '35212', '35182', '34975', '16865', '117875', '125623', '34972', '35028', '35020', '35215', '44836', '30649', '34845', '34865', '68791', '67967', '35067', '37255', '35124', '105368', '19963', '35040', '35140', '35039', '67685', '35166', '34814', '35026', '34832', '35049', '35011', '35239', '35115', '34858', '9258', '35218', '58105', '35231', '34999', '35079', '30654', '34974', '34943', '71322', '35227', '34898', '34940', '37242', '37274', '35029', '35193', '35099', '34786', '35055', '34852', '35032', '100337', '33850', '34800', '62764', '63702', '30658', '63827', '35168', '34963', '34876', '35201', '34857', '34850', '45081', '35148', '35098', '37256', '34926', '96944', '34803', '35092', '34773', '35093', '35224', '35002', '35149', '50674', '71562', '123161', '33643', '34812', '34984', '35073', '29459', '125486', '113999', '124267', '727', '34868', '34869', '35145', '71254', '52221', '1719', '18482', '35021', '35023', '34815', '35059', '34914', '31882', '35151', '34992', '34907', '30402'}\n"
     ]
    },
    {
     "name": "stderr",
     "output_type": "stream",
     "text": [
      "[2020-12-05 09:35:04,680] ERROR in app: Exception on /buscador [GET]\n",
      "Traceback (most recent call last):\n",
      "  File \"/usr/lib/python3/dist-packages/flask/app.py\", line 1949, in full_dispatch_request\n",
      "    rv = self.dispatch_request()\n",
      "  File \"/usr/lib/python3/dist-packages/flask/app.py\", line 1935, in dispatch_request\n",
      "    return self.view_functions[rule.endpoint](**req.view_args)\n",
      "  File \"/home/natha/.local/lib/python3.8/site-packages/flask_restful/__init__.py\", line 468, in wrapper\n",
      "    resp = resource(*args, **kwargs)\n",
      "  File \"/usr/lib/python3/dist-packages/flask/views.py\", line 89, in view\n",
      "    return self.dispatch_request(*args, **kwargs)\n",
      "  File \"/home/natha/.local/lib/python3.8/site-packages/flask_restful/__init__.py\", line 583, in dispatch_request\n",
      "    resp = meth(*args, **kwargs)\n",
      "  File \"<ipython-input-1-488a108d2d17>\", line 54, in get\n",
      "    QueryRunner.runQuery(query, index, precomp, relevantes, modelo)\n",
      "  File \"/home/natha/CEFET/RI/crawlerRI/tp-processamento-consulta/query/processing.py\", line 157, in runQuery\n",
      "    precisao = qr.count_topn_relevant(n, respostas[0], map_relevantes[query]) / len(respostas[0])\n",
      "ZeroDivisionError: division by zero\n",
      "127.0.0.1 - - [05/Dec/2020 09:35:04] \"GET /buscador?query=sao_paulo&type=vetorial&operation=and HTTP/1.1\" 500 -\n"
     ]
    },
    {
     "name": "stdout",
     "output_type": "stream",
     "text": [
      "sao_paulo vetorial and\n",
      "ola mundou deu bom\n",
      "1\n",
      "2\n",
      "3\n",
      "Query sao_paulo\n",
      "Dic_query_occur\n",
      "{'sao_paulo': (term_id:1 doc: None freq: 1)}\n",
      "Query dividida\n",
      "['sao_paulo']\n",
      "Dic_query_per_term_query\n",
      "{'sao_paulo': [(term_id:1 doc: 359 freq: 5), (term_id:1 doc: 16865 freq: 2), (term_id:1 doc: 35020 freq: 1)]}\n",
      "{'sao_paulo': (term_id:1 doc: None freq: 1)}\n",
      "{'sao_paulo': [(term_id:1 doc: 359 freq: 5), (term_id:1 doc: 16865 freq: 2), (term_id:1 doc: 35020 freq: 1)]}\n",
      "Documents_weight\n",
      "{}\n",
      "Doc IDs\n",
      "[]\n",
      "Respostas cheio\n",
      "([], {})\n",
      "[]\n",
      "Passei aqui\n",
      "{'belo_horizonte': {'69168', '29241', '1083', '49772', '110030', '125549', '18111', '107302', '136473', '49186', '38636', '484', '19588', '91853', '106575', '43658', '108604', '130173', '91593', '97000', '47967', '40226', '104137', '136473\\n', '80198', '35985', '101043'}, 'irlanda': {'43872', '52998', '105348', '1393', '51786', '39049', '46441', '7765', '51714', '39300', '13256', '53004', '1034', '58189', '47185', '3765', '9955', '15393', '33833', '124818\\n', '83228', '51778', '9918', '93223', '45577', '37632', '95773', '52995', '11953', '51779', '111966', '102888', '1196', '105145', '54836', '44259', '51716', '26276', '37935'}, 'sao_paulo': {'37087', '31886', '41906', '35155', '35238', '37265', '34779', '35041', '58490', '34873', '18489', '116543', '132004', '32353', '43939', '35174', '35048', '35066', '47240', '17661', '37054', '34884', '34879', '56310', '34893', '35222', '121025', '13726', '35038', '114888', '35101', '67301', '35100', '41948', '34813', '32573', '128906', '33739', '44033', '34981', '30653', '18411', '34941', '35170', '34937', '111222', '35235', '23412', '34849', '34987', '126579', '35161', '29460', '23983', '33267', '37252', '41958', '120284', '35086', '35110', '34627', '34983', '35069', '96952', '34822', '35160', '123768', '34770', '34841', '35875', '35186', '34908', '35217', '132760', '35229', '24088', '31202', '9277', '34787', '34939', '31880', '64908', '34918', '66592', '15837', '18515', '1084', '820', '26173', '131865', '10558', '47510', '30667', '120283', '115341', '12381', '41942', '34970', '54087', '96931', '35024', '35207', '34777', '117951', '34874', '44027', '34923', '34903', '78269', '105372', '107278', '35102', '127538', '35074', '34863', '35000', '41971', '34965', '32738', '37241', '34931', '35150', '46533', '37258', '35022', '104847', '37247', '35171', '61190', '107604', '35004', '34935', '37600', '34962', '91915', '60431', '16722', '31889', '34971', '35240', '30641', '125876', '121580', '94770', '34798', '35117', '35188', '37240', '130537', '37261', '114625', '34900', '115646', '35132', '1291', '63586', '34967', '77762', '34896', '23439', '34837', '34928', '123706', '35076', '35047', '35144', '34847', '110916', '65568', '34978', '44596', '11478', '17703', '35210', '34906', '34950', '34872', '34990', '31888', '132679', '30669', '34840', '35036', '35223', '35130', '34901', '35012', '34844', '35052', '35204', '78432', '34958', '34784', '49745', '35233', '54428', '21467', '63584', '34888', '35157', '34825', '34836', '11664', '29427', '34824', '35177', '35135', '130359', '35031', '99800', '34855', '37249', '55965', '34991', '35194', '103003', '31879', '34809', '120839', '35134', '42765', '116539', '30119', '34699', '35035', '41955', '47221', '127303', '34945', '35122', '135137\\n', '18307', '18305', '118365', '1752', '107841', '30016', '34878', '34952', '29477', '34831', '35113', '35058', '105369', '41761', '62759', '359', '35226', '35143', '35158', '40127', '34912', '103736', '35131', '35202', '34861', '35213', '9744', '35043', '34871', '34890', '34891', '35184', '35206', '35195', '35001', '37297', '60430', '83535', '22647', '37244', '60377', '25107', '110315', '34830', '18285', '35153', '34885', '35056', '45239', '36238', '35123', '34930', '34791', '29476', '23420', '98274', '41945', '31890', '24546', '17422', '103495', '34897', '24007', '34851', '35063', '34959', '23505', '12218', '21504', '26805', '117843', '18769', '35183', '53155', '41967', '36655', '35163', '12383', '34985', '34902', '34955', '35216', '34794', '34807', '23413', '108677', '34880', '64326', '34953', '42255', '124892', '35126', '37056', '34969', '44043', '71920', '37283', '37243', '35225', '35030', '23990', '34808', '34821', '35138', '41944', '54205', '35112', '8170', '36511', '35077', '35181', '106867', '57810', '130272', '18364', '35054', '37053', '63617', '22159', '110028', '53269', '59093', '34785', '35230', '121946', '112599', '34882', '124032', '129465', '34776', '61403', '35034', '35070', '17768', '7847', '35241', '120924', '9928', '49752', '34986', '35173', '52391', '23988', '18143', '24089', '34932', '35198', '38535', '34915', '35197', '67061', '33530', '34919', '35027', '41964', '35221', '72497', '58426', '103262', '35007', '34778', '34895', '64679', '34606', '35205', '35162', '34829', '30652', '114091', '35214', '35114', '34968', '35095', '72332', '7687', '34979', '18312', '35108', '35087', '63775', '34936', '111495', '34998', '74190', '35006', '34843', '113733', '110131', '63613', '27860', '34862', '35064', '34911', '42582', '124692', '35165', '37085', '34653', '34933', '41961', '34892', '35083', '23402', '27897', '34819', '96945', '63776', '34886', '10756', '120719', '50702', '34995', '35046', '95286', '34921', '34934', '23441', '70457', '18299', '35119', '34613', '104490', '108256', '56690', '34982', '63593', '44001', '35175', '3546', '63715', '15814', '34820', '35061', '128635', '67965', '62828', '35164', '10792', '53833', '1324', '34894', '37282', '34806', '63123', '35111', '128145', '35156', '76506', '30640', '35125', '63637', '70209', '35109', '84257', '35189', '101163', '35139', '35141', '64678', '35089', '35167', '35196', '52388', '35212', '35182', '34975', '16865', '117875', '125623', '34972', '35028', '35020', '35215', '44836', '30649', '34845', '34865', '68791', '67967', '35067', '37255', '35124', '105368', '19963', '35040', '35140', '35039', '67685', '35166', '34814', '35026', '34832', '35049', '35011', '35239', '35115', '34858', '9258', '35218', '58105', '35231', '34999', '35079', '30654', '34974', '34943', '71322', '35227', '34898', '34940', '37242', '37274', '35029', '35193', '35099', '34786', '35055', '34852', '35032', '100337', '33850', '34800', '62764', '63702', '30658', '63827', '35168', '34963', '34876', '35201', '34857', '34850', '45081', '35148', '35098', '37256', '34926', '96944', '34803', '35092', '34773', '35093', '35224', '35002', '35149', '50674', '71562', '123161', '33643', '34812', '34984', '35073', '29459', '125486', '113999', '124267', '727', '34868', '34869', '35145', '71254', '52221', '1719', '18482', '35021', '35023', '34815', '35059', '34914', '31882', '35151', '34992', '34907', '30402'}}\n",
      "dict_keys(['belo_horizonte', 'irlanda', 'sao_paulo'])\n",
      "entrou aqui\n",
      "{'37087', '31886', '41906', '35155', '35238', '37265', '34779', '35041', '58490', '34873', '18489', '116543', '132004', '32353', '43939', '35174', '35048', '35066', '47240', '17661', '37054', '34884', '34879', '56310', '34893', '35222', '121025', '13726', '35038', '114888', '35101', '67301', '35100', '41948', '34813', '32573', '128906', '33739', '44033', '34981', '30653', '18411', '34941', '35170', '34937', '111222', '35235', '23412', '34849', '34987', '126579', '35161', '29460', '23983', '33267', '37252', '41958', '120284', '35086', '35110', '34627', '34983', '35069', '96952', '34822', '35160', '123768', '34770', '34841', '35875', '35186', '34908', '35217', '132760', '35229', '24088', '31202', '9277', '34787', '34939', '31880', '64908', '34918', '66592', '15837', '18515', '1084', '820', '26173', '131865', '10558', '47510', '30667', '120283', '115341', '12381', '41942', '34970', '54087', '96931', '35024', '35207', '34777', '117951', '34874', '44027', '34923', '34903', '78269', '105372', '107278', '35102', '127538', '35074', '34863', '35000', '41971', '34965', '32738', '37241', '34931', '35150', '46533', '37258', '35022', '104847', '37247', '35171', '61190', '107604', '35004', '34935', '37600', '34962', '91915', '60431', '16722', '31889', '34971', '35240', '30641', '125876', '121580', '94770', '34798', '35117', '35188', '37240', '130537', '37261', '114625', '34900', '115646', '35132', '1291', '63586', '34967', '77762', '34896', '23439', '34837', '34928', '123706', '35076', '35047', '35144', '34847', '110916', '65568', '34978', '44596', '11478', '17703', '35210', '34906', '34950', '34872', '34990', '31888', '132679', '30669', '34840', '35036', '35223', '35130', '34901', '35012', '34844', '35052', '35204', '78432', '34958', '34784', '49745', '35233', '54428', '21467', '63584', '34888', '35157', '34825', '34836', '11664', '29427', '34824', '35177', '35135', '130359', '35031', '99800', '34855', '37249', '55965', '34991', '35194', '103003', '31879', '34809', '120839', '35134', '42765', '116539', '30119', '34699', '35035', '41955', '47221', '127303', '34945', '35122', '135137\\n', '18307', '18305', '118365', '1752', '107841', '30016', '34878', '34952', '29477', '34831', '35113', '35058', '105369', '41761', '62759', '359', '35226', '35143', '35158', '40127', '34912', '103736', '35131', '35202', '34861', '35213', '9744', '35043', '34871', '34890', '34891', '35184', '35206', '35195', '35001', '37297', '60430', '83535', '22647', '37244', '60377', '25107', '110315', '34830', '18285', '35153', '34885', '35056', '45239', '36238', '35123', '34930', '34791', '29476', '23420', '98274', '41945', '31890', '24546', '17422', '103495', '34897', '24007', '34851', '35063', '34959', '23505', '12218', '21504', '26805', '117843', '18769', '35183', '53155', '41967', '36655', '35163', '12383', '34985', '34902', '34955', '35216', '34794', '34807', '23413', '108677', '34880', '64326', '34953', '42255', '124892', '35126', '37056', '34969', '44043', '71920', '37283', '37243', '35225', '35030', '23990', '34808', '34821', '35138', '41944', '54205', '35112', '8170', '36511', '35077', '35181', '106867', '57810', '130272', '18364', '35054', '37053', '63617', '22159', '110028', '53269', '59093', '34785', '35230', '121946', '112599', '34882', '124032', '129465', '34776', '61403', '35034', '35070', '17768', '7847', '35241', '120924', '9928', '49752', '34986', '35173', '52391', '23988', '18143', '24089', '34932', '35198', '38535', '34915', '35197', '67061', '33530', '34919', '35027', '41964', '35221', '72497', '58426', '103262', '35007', '34778', '34895', '64679', '34606', '35205', '35162', '34829', '30652', '114091', '35214', '35114', '34968', '35095', '72332', '7687', '34979', '18312', '35108', '35087', '63775', '34936', '111495', '34998', '74190', '35006', '34843', '113733', '110131', '63613', '27860', '34862', '35064', '34911', '42582', '124692', '35165', '37085', '34653', '34933', '41961', '34892', '35083', '23402', '27897', '34819', '96945', '63776', '34886', '10756', '120719', '50702', '34995', '35046', '95286', '34921', '34934', '23441', '70457', '18299', '35119', '34613', '104490', '108256', '56690', '34982', '63593', '44001', '35175', '3546', '63715', '15814', '34820', '35061', '128635', '67965', '62828', '35164', '10792', '53833', '1324', '34894', '37282', '34806', '63123', '35111', '128145', '35156', '76506', '30640', '35125', '63637', '70209', '35109', '84257', '35189', '101163', '35139', '35141', '64678', '35089', '35167', '35196', '52388', '35212', '35182', '34975', '16865', '117875', '125623', '34972', '35028', '35020', '35215', '44836', '30649', '34845', '34865', '68791', '67967', '35067', '37255', '35124', '105368', '19963', '35040', '35140', '35039', '67685', '35166', '34814', '35026', '34832', '35049', '35011', '35239', '35115', '34858', '9258', '35218', '58105', '35231', '34999', '35079', '30654', '34974', '34943', '71322', '35227', '34898', '34940', '37242', '37274', '35029', '35193', '35099', '34786', '35055', '34852', '35032', '100337', '33850', '34800', '62764', '63702', '30658', '63827', '35168', '34963', '34876', '35201', '34857', '34850', '45081', '35148', '35098', '37256', '34926', '96944', '34803', '35092', '34773', '35093', '35224', '35002', '35149', '50674', '71562', '123161', '33643', '34812', '34984', '35073', '29459', '125486', '113999', '124267', '727', '34868', '34869', '35145', '71254', '52221', '1719', '18482', '35021', '35023', '34815', '35059', '34914', '31882', '35151', '34992', '34907', '30402'}\n"
     ]
    }
   ],
   "source": [
    "from flask import Flask, request, jsonify, abort\n",
    "from flask_restful import Resource, Api\n",
    "from json import dumps\n",
    "from flask_cors import CORS, cross_origin\n",
    "\n",
    "from index.indexer import Cleaner\n",
    "from query.ranking_models import BooleanRankingModel, VectorRankingModel, IndexPreComputedVals, OPERATOR\n",
    "from query.processing import QueryRunner\n",
    "from index.structure import HashIndex,FileIndex,TermOccurrence\n",
    "\n",
    "app = Flask(__name__)\n",
    "cors = CORS(app)\n",
    "app.config['CORS_HEADERS'] = 'Content-Type'\n",
    "\n",
    "api = Api(app)\n",
    "\n",
    "index = FileIndex()\n",
    "index.index(\"sao_paulo\",35020,1)\n",
    "index.index(\"irlanda\",39300,3)\n",
    "index.index(\"espero\",39300,1)\n",
    "index.index(\"que\",11953,1)\n",
    "index.index(\"sao_paulo\",16865,2)\n",
    "index.index(\"estejam\",11953,1)\n",
    "index.index(\"se\",11953,1)\n",
    "index.index(\"sao_paulo\",359,5)\n",
    "index.index(\"irlanda\",37632,4)\n",
    "index.index(\"irlanda\",11953,1)\n",
    "index.finish_indexing()\n",
    "\n",
    "precomp = IndexPreComputedVals(index)\n",
    "\n",
    "class Buscador(Resource):\n",
    "    def get(self):\n",
    "        query = request.args.get('query')\n",
    "        typeValue = request.args.get('type')\n",
    "        operation = request.args.get('operation')\n",
    "        \n",
    "        if query is None or typeValue is None or operation is None:\n",
    "            abort(400, \"Por favor, envie todos os dados\")\n",
    "        \n",
    "        print(query, typeValue, operation)\n",
    "        \n",
    "        if typeValue == 'booleano':\n",
    "            if operation == 'and':\n",
    "                modelo = BooleanRankingModel(OPERATOR.AND)\n",
    "            else:\n",
    "                modelo = BooleanRankingModel(OPERATOR.OR)\n",
    "        else:\n",
    "            modelo = VectorRankingModel(precomp)\n",
    "        \n",
    "        relevantes = QueryRunner.get_relevance_per_query(query) # Recebe todos os docs \n",
    "        #queryRunner = QueryRunner(modelo, index, cleaner)\n",
    "        #print(relevantes)\n",
    "        QueryRunner.runQuery(query, index, precomp, relevantes, modelo)\n",
    "        result = [1,2,3,4,5,6]\n",
    "        return jsonify(result)\n",
    "\n",
    "api.add_resource(Buscador, '/buscador') \n",
    "\n",
    "if __name__ == '__main__':\n",
    "    app.run()"
   ]
  },
  {
   "cell_type": "code",
   "execution_count": null,
   "metadata": {},
   "outputs": [],
   "source": [
    "from flask import Flask, request, jsonify, abort\n",
    "from flask_restful import Resource, Api\n",
    "from json import dumps\n",
    "from flask_cors import CORS, cross_origin\n",
    "\n",
    "from index.indexer import Cleaner\n",
    "from query.ranking_models import BooleanRankingModel, VectorRankingModel, IndexPreComputedVals, OPERATOR\n",
    "from query.processing import QueryRunner\n",
    "from index.structure import HashIndex,FileIndex,TermOccurrence\n",
    "\n",
    "query = \"Ins\"\n",
    "relevantes = QueryRunner.get_relevance_per_query(query)\n",
    "for teste in relevantes:\n",
    "    print(teste)\n",
    "    if ['69168'] in relevantes[teste]:\n",
    "        print(\"Entrou\")\n",
    "print(relevantes)\n",
    "\n",
    "\n"
   ]
  },
  {
   "cell_type": "code",
   "execution_count": null,
   "metadata": {},
   "outputs": [],
   "source": [
    "from index.indexer import Cleaner\n",
    "from query.ranking_models import BooleanRankingModel, VectorRankingModel, IndexPreComputedVals, OPERATOR\n",
    "from query.processing import QueryRunner\n",
    "from index.structure import HashIndex,FileIndex,TermOccurrence\n",
    "\n",
    "QueryRunner.main()\n"
   ]
  }
 ],
 "metadata": {
  "kernelspec": {
   "display_name": "Python 3",
   "language": "python",
   "name": "python3"
  },
  "language_info": {
   "codemirror_mode": {
    "name": "ipython",
    "version": 3
   },
   "file_extension": ".py",
   "mimetype": "text/x-python",
   "name": "python",
   "nbconvert_exporter": "python",
   "pygments_lexer": "ipython3",
   "version": "3.8.5"
  }
 },
 "nbformat": 4,
 "nbformat_minor": 4
}
