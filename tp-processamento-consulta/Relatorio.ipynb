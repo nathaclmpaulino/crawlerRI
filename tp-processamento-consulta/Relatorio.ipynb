{
 "cells": [
  {
   "cell_type": "markdown",
   "metadata": {},
   "source": [
    "<h1><b>Recuperação da Informação</b></h1>\n",
    "\n",
    "<h3><b>Recuperação de Informação na Web 2020</b></h3>\n",
    "\n",
    "<h3><b>Trabalho Prático Wikipédia - Busca e Avaliação do Resultado</b></h3>\n",
    "<br>\n",
    "Alunos:<ul>Antônio Sousa</ul><ul>Mariana Bulgarelli Alves dos Santos</ul><ul>Nathã Paulino</ul>\n",
    "\n",
    "\n",
    "<h4><b>Processamento de Consulta</b></h4>\n",
    "\n"
   ]
  },
  {
   "cell_type": "markdown",
   "metadata": {},
   "source": [
    "<h4><b>Analise a ocorrência de termos no documento</b></h4>"
   ]
  },
  {
   "cell_type": "markdown",
   "metadata": {},
   "source": [
    "<h5><b> Quais são os 10 termos com maior e menor IDF da coleção? Com base nostermos de menor IDF, será que podiamos propor stopwords novas? Combase nesses termos, existe algo que você poderia melhorar no processamento? </b></h5>\n",
    "<p> </p>"
   ]
  },
  {
   "cell_type": "code",
   "execution_count": null,
   "metadata": {},
   "outputs": [],
   "source": []
  },
  {
   "cell_type": "markdown",
   "metadata": {},
   "source": [
    "<h4><b>Apresente o gráfico de frequência das palavras. Tais palavras devem serordenadas decrescentemente de acordo com a sua frequência. Note que afrequencia da palavra é a frequencia total do termo na coleção (Definido porF(termo) na aula sobre TF-IDF). De forma similar, faça o gráfico do IDF decada palavra (veja o grafico similar na aula sobre TF-IDF). Mostre também,quais que tipos de palavras (específicas? Erros de processamento?) possuemTF alto, mediano e baixo. Faça o mesmo para IDF. </b></h4>\n",
    "<p> </p>"
   ]
  },
  {
   "cell_type": "markdown",
   "metadata": {},
   "source": [
    "<h4><b>[opcional] Qual é o tamanho do vocabulario (número de palavras) quando usamos stemming eremoção de stopwords? e quando não usamos?</b></h4>\n",
    "<p> </p>"
   ]
  },
  {
   "cell_type": "markdown",
   "metadata": {},
   "source": [
    "<h4><b>Faça algumas consultas exemplos, mostrando o tempo de execução e o número de documentosretornados para cada consulta para cada modelo implementado </b></h4>\n",
    "<p> </p>"
   ]
  },
  {
   "cell_type": "markdown",
   "metadata": {},
   "source": [
    "<h4><b>Apresentação e discussão dos gráficos de avaliação (precisão e revocação @5, @10, @25, @50revocação @5, @10, @25, @50) do modelo vetorial. Para plotar os graficos, você pode usar as bibliotecas seaborn ou matplotlib.</b></h4>\n",
    "<p> </p>"
   ]
  }
 ],
 "metadata": {
  "kernelspec": {
   "display_name": "Python 3",
   "language": "python",
   "name": "python3"
  },
  "language_info": {
   "codemirror_mode": {
    "name": "ipython",
    "version": 3
   },
   "file_extension": ".py",
   "mimetype": "text/x-python",
   "name": "python",
   "nbconvert_exporter": "python",
   "pygments_lexer": "ipython3",
   "version": "3.7.7"
  }
 },
 "nbformat": 4,
 "nbformat_minor": 4
}
